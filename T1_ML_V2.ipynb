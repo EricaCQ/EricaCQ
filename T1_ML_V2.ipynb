{
  "nbformat": 4,
  "nbformat_minor": 0,
  "metadata": {
    "colab": {
      "name": "T1_ML_V2.ipynb",
      "provenance": [],
      "toc_visible": true,
      "authorship_tag": "ABX9TyNjTdGiLkQEw9PEq19U39sq",
      "include_colab_link": true
    },
    "kernelspec": {
      "display_name": "Python 3",
      "name": "python3"
    },
    "language_info": {
      "name": "python"
    }
  },
  "cells": [
    {
      "cell_type": "markdown",
      "metadata": {
        "id": "view-in-github",
        "colab_type": "text"
      },
      "source": [
        "<a href=\"https://colab.research.google.com/github/EricaCQ/EricaCQ/blob/main/T1_ML_V2.ipynb\" target=\"_parent\"><img src=\"https://colab.research.google.com/assets/colab-badge.svg\" alt=\"Open In Colab\"/></a>"
      ]
    },
    {
      "cell_type": "markdown",
      "metadata": {
        "id": "VU_8LkFUbgAw"
      },
      "source": [
        "### Programa de Pós-graduação em Ciências da Computação (PPCIC)\n",
        "### Centro Federal de Educação Tecnológica Celso Suckow da Fonseca – (CEFET/RJ)\n",
        "###Disciplina: Aprendizado de Máquina\n",
        "###Prof.: Eduardo Bezerra\n",
        "###Aluna: Érica Carneiro\n",
        "\n"
      ]
    },
    {
      "cell_type": "markdown",
      "metadata": {
        "id": "1esYzUFKog3t"
      },
      "source": [
        "Para a correta execução das funções de predição em aprendizado de máquina, o uso de algumas bibliotecas em Python são de grande para o auxílio e execução dos algoritmo presentes neste trabalhos.\n",
        "Ressalta-se que optou-se por executar todas as funções dentro do presente documento de modo a facilitar a visualilzação, aprendizado e possíveis inferências que as mesmas poderiam trazer ao leitor e autor do presente documento. "
      ]
    },
    {
      "cell_type": "markdown",
      "metadata": {
        "id": "dLIEkX4FokR7"
      },
      "source": [
        "# Importação de bibliotecas"
      ]
    },
    {
      "cell_type": "markdown",
      "metadata": {
        "id": "DfI-dK7EouXG"
      },
      "source": [
        "As bibliotecas relacionadas abaixo foram utilizadas no presente documento. Todas são de fundamental importância para a execução das funções e execução dos algoritmos de aprendizado de máquina para o desenvolvimento deste trabalho."
      ]
    },
    {
      "cell_type": "code",
      "metadata": {
        "id": "qsW6yDFgrdJm"
      },
      "source": [
        "import os\n",
        "import numpy as np\n",
        "import pandas as pd\n",
        "import matplotlib.pyplot as plt\n",
        "#Usado para plotar 3d em fig.gca\n",
        "from mpl_toolkits.mplot3d import Axes3D\n",
        "import scipy.optimize as opt\n",
        "import scipy.io\n",
        "import scipy.io as sio\n",
        "import scipy.optimize as opt\n",
        "import requests"
      ],
      "execution_count": null,
      "outputs": []
    },
    {
      "cell_type": "markdown",
      "metadata": {
        "id": "mliwGUF-pGuo"
      },
      "source": [
        "# Importação de Arquivos"
      ]
    },
    {
      "cell_type": "markdown",
      "metadata": {
        "id": "F2vM4eEypNDr"
      },
      "source": [
        "A fim de facilitar o desenvolvimento e agilizar as etapas de importação de arquivos, optou-se pela  importação automática de arquivos salvos no drive pessoal do Google. Como o Google Colab exige que arquivos e algoritmos sejam reprocessados ou importados novamete, a aplicação abaixo evita o constante *upload* individual de *data frames*."
      ]
    },
    {
      "cell_type": "code",
      "metadata": {
        "colab": {
          "base_uri": "https://localhost:8080/"
        },
        "id": "arOQrKz8gF0N",
        "outputId": "99fa3f9c-bd17-42f7-aaaa-68f316c3fb0c"
      },
      "source": [
        "from google.colab import drive\n",
        "drive.mount('/content/drive')\n"
      ],
      "execution_count": null,
      "outputs": [
        {
          "output_type": "stream",
          "text": [
            "Mounted at /content/drive\n"
          ],
          "name": "stdout"
        }
      ]
    },
    {
      "cell_type": "code",
      "metadata": {
        "id": "HPQYdtF2h0BF"
      },
      "source": [
        "dir = '/content/drive/My Drive/AM-T1-dados'\n",
        "os.chdir(dir)"
      ],
      "execution_count": null,
      "outputs": []
    },
    {
      "cell_type": "markdown",
      "metadata": {
        "id": "gviFAguErlHI"
      },
      "source": [
        "## 1. Regressão Linear com uma Variável"
      ]
    },
    {
      "cell_type": "markdown",
      "metadata": {
        "id": "DQEE_7jHt89a"
      },
      "source": [
        "A seguir, demonstrar-se-á um passo a passo de modo a implementar a regressão linear com uma variável, também denominada regressão linear simples. As análises que se utilizam deste tipo de equação possuem apenas duas variáveis, uma dependente e outra independente. Sua fórmula pode ser representada pela função da equação linear:\n",
        "\n",
        "y= a + bx\n",
        "\n",
        "É importante destacar que a relação entre as variáveis possibilitará a predição ou estimativa de outras variáveis.\n",
        "\n",
        "A aplicação abaixo tem como objetivo predizer o lucro para uma cadeia de food truck. Valores negativos correspondem a filiais cujo retorno de investimento não corresponde ao esperado.\n",
        "\n"
      ]
    },
    {
      "cell_type": "markdown",
      "metadata": {
        "id": "bRfyAEaxx_eI"
      },
      "source": [
        "# 1.1 Visualização de dados\n"
      ]
    },
    {
      "cell_type": "markdown",
      "metadata": {
        "id": "JscDrqDx0G3T"
      },
      "source": [
        "A função abaixo é utilizada para importar os dados presentes em todos os arquivos. Ela será repetida a cada etapa do desenvolvimento deste trabalho por meio do comando *importarDados*. As informações entre parênteses correspondem à localização e nome do arquivo e devem ser atualizadas a cada chamado da função, de modo a substituir os *data frames* analisados em cada questão. A saber, questões 1, 2, 3, 4, 5, 6 e 7.\n",
        "\n",
        "As variáveis equalizadas abaixo dimensionam os valores para o eixo x e y de infinito a 0 e - 1.\n",
        "\n",
        "X = data.iloc[:, 0:-1].values\n",
        "\n",
        "y = data.iloc[:, -1:].values\n",
        "\n",
        "Já a função *return* executa o comando retornando os valores das variáveis.\n"
      ]
    },
    {
      "cell_type": "code",
      "metadata": {
        "id": "yPD8W_PHu1TK"
      },
      "source": [
        "def importarDados(filepath, names):\n",
        "    path = os.getcwd() + filepath  \n",
        "    data = pd.read_csv(path, header=None, names=names)\n",
        "\n",
        "    X = data.iloc[:, 0:-1].values\n",
        "    y = data.iloc[:, -1:].values\n",
        "\n",
        "    return X, y\n"
      ],
      "execution_count": null,
      "outputs": []
    },
    {
      "cell_type": "markdown",
      "metadata": {
        "id": "WriUQoT82NUo"
      },
      "source": [
        "## 1.1 Plotando ou visualizando os dados em gráfico de dispersão\n"
      ]
    },
    {
      "cell_type": "markdown",
      "metadata": {
        "id": "mZqe2rr32iXh"
      },
      "source": [
        "O primeiro comando, como já mencioado, chama a função importarDados. Desta forma, a função *def plot()* localiza o *data frame* a ser visualizado. Após a definição dos dados suprecitada, a função *def plot* necessita da parametrização para a visualização das informações que serão apresentadas no gráfico. Optou-se por evitar comentários no código a fim de evitar a poluição do mesmo, sendo assim, a explicação dos parâmetros de representação gráfica serão explicados abaixo pontualmente.\n",
        "\n",
        "Define as cores (*blue*) e marcadores (*) utilizados na visualização -> plt.scatter(X.T, y, color='blue', marker='*')\n",
        "\n",
        "Fornece o título do gráfico apresentado ->\n",
        "plt.title('Populacao da cidade x Lucro da filial')\n",
        "\n",
        "Nomeação do eixo x -> \n",
        "plt.xlabel('Populacao da cidade (10k)')\n",
        "\n",
        "Nomeação do eixo y -> \n",
        "plt.ylabel('Lucro (10k)')\n",
        "\n",
        "Os comandos *filepath* salvam o arquivo em imagem gerado em uma nova pasta enquanto *plt.show()* apresenta a figura, ou seja, representação imagética dos gráficos gerado pelos dados supracitados.\n",
        "\n"
      ]
    },
    {
      "cell_type": "code",
      "metadata": {
        "id": "-DVJuBc7v2kG"
      },
      "source": [
        "\n",
        "\n",
        "\n",
        "\n",
        "def plot():\n",
        "    X, y = importarDados(filepath=\"/ex1data1.txt\", names=[\"Population\",\"Profit\"])\n",
        "\n",
        "    plt.scatter(X.T, y, color='blue', marker='*')\n",
        "    plt.title('Populacao da cidade x Lucro da filial')\n",
        "    plt.xlabel('Populacao da cidade (10k)')\n",
        "    plt.ylabel('Lucro (10k)')\n",
        "\n",
        "    filename = 'target/plot1.1.png'\n",
        "    if not os.path.exists(os.path.dirname(filename)):\n",
        "      os.makedirs(os.path.dirname(filename))\n",
        "\n",
        "    plt.savefig(filename)\n",
        "    plt.show()"
      ],
      "execution_count": null,
      "outputs": []
    },
    {
      "cell_type": "markdown",
      "metadata": {
        "id": "WrRw2VjpUYRd"
      },
      "source": [
        "O comando *plot()* chama a função acima, apresentando a imagem gerada."
      ]
    },
    {
      "cell_type": "markdown",
      "metadata": {
        "id": "mKlnXu0VlxYJ"
      },
      "source": [
        "Conforme visualizado na imagem abaixo, quanto maior a população de uma cidade, maior será o lucro da filial."
      ]
    },
    {
      "cell_type": "code",
      "metadata": {
        "colab": {
          "base_uri": "https://localhost:8080/",
          "height": 294
        },
        "id": "dph-JtWBwUil",
        "outputId": "b3eca31a-fdd5-401c-b3d1-e9fbb55033c4"
      },
      "source": [
        "plot()"
      ],
      "execution_count": null,
      "outputs": [
        {
          "output_type": "display_data",
          "data": {
            "image/png": "[encoded data removed]",
            "text/plain": [
              "<Figure size 432x288 with 1 Axes>"
            ]
          },
          "metadata": {
            "tags": [],
            "needs_background": "light"
          }
        }
      ]
    },
    {
      "cell_type": "markdown",
      "metadata": {
        "id": "xkTDyRMz5D0O"
      },
      "source": [
        "# 1.2 Gradiente descendente"
      ]
    },
    {
      "cell_type": "markdown",
      "metadata": {
        "id": "AdjHi-x35KAH"
      },
      "source": [
        "Utiliza-se o método do Gradiente Descendente para encontrar o valor mínimo de uma função representada matematicamente por:\n",
        "\n",
        "β(k+1)=β(k)+αk∇J(β(k))\n",
        "\n",
        "As variáveis acima podem ser representadas da seguinte maneira:\n",
        "\n",
        "αk = tamanho do passo utilizado no algoritmo;\n",
        "∇J(β(k)) = gradiente da função custo no ponto β(k). \n",
        "\n",
        "É importante ressaltar que o algoritmo exige a estipulação de um valor β0, *i.e.*, um valor de estimativa aleatório inicial para o parâmetro. Desta forma, podemos representar a nova função por:\n",
        "\n",
        "h0(x)=β0+β1x\n",
        "\n",
        "A partir das informações acima, a representação matemática de J, presente na função abaixo, pode ser dada por:\n",
        "\n",
        "J(θ∼)=12m∑i=1m(hθ(x)i)−y(i))2\n",
        "\n"
      ]
    },
    {
      "cell_type": "code",
      "metadata": {
        "id": "mecpvZ-d8O1k"
      },
      "source": [
        "def custo_reglin_uni(X, y, theta):\n",
        "\n",
        "    # Quantidade de exemplos de treinamento\n",
        "    m = len(y)\n",
        "\n",
        "    # Computar a funcao do custo J\n",
        "    J = (np.sum((X.dot(theta) - y)**2)) / (2 * m)\n",
        "\n",
        "    return J"
      ],
      "execution_count": null,
      "outputs": []
    },
    {
      "cell_type": "markdown",
      "metadata": {
        "id": "J3xa4-Fy-jrJ"
      },
      "source": [
        "Importação dos dados e nomeação das colunas como \"*Population\" e \"Profit\""
      ]
    },
    {
      "cell_type": "code",
      "metadata": {
        "id": "LgC-QXL-hv7H"
      },
      "source": [
        "X, y = importarDados(filepath=\"/ex1data1.txt\", names=[\"Population\",\"Profit\"])\n"
      ],
      "execution_count": null,
      "outputs": []
    },
    {
      "cell_type": "markdown",
      "metadata": {
        "id": "vQtVROSb-un0"
      },
      "source": [
        "As duas linhas abaixo retornam o o custo dos valores de theta e inicializam todos os parâmentros com 0."
      ]
    },
    {
      "cell_type": "code",
      "metadata": {
        "id": "xRUOeOuT9Fu9"
      },
      "source": [
        "theta = np.array([0,0],ndmin=2).T"
      ],
      "execution_count": null,
      "outputs": []
    },
    {
      "cell_type": "code",
      "metadata": {
        "colab": {
          "base_uri": "https://localhost:8080/"
        },
        "id": "CyK5SJd19uG2",
        "outputId": "6572f803-7f6a-4b07-f742-fd9bc4b8ea5f"
      },
      "source": [
        "J = custo_reglin_uni(X,y,0)\n",
        "print (\"Custo J(theta) = {0:.5}\".format(J),\"para Gradiente = 0.0\")"
      ],
      "execution_count": null,
      "outputs": [
        {
          "output_type": "stream",
          "text": [
            "Custo J(theta) = 32.073 para Gradiente = 0.0\n"
          ],
          "name": "stdout"
        }
      ]
    },
    {
      "cell_type": "markdown",
      "metadata": {
        "id": "FKFL1fhvAKGK"
      },
      "source": [
        "Retorna os valores de X após a parametrização e com uma coluna de 1."
      ]
    },
    {
      "cell_type": "code",
      "metadata": {
        "colab": {
          "base_uri": "https://localhost:8080/"
        },
        "id": "CYYHUwt3-pQf",
        "outputId": "19e83406-47ba-423f-ec3a-cd24781ca304"
      },
      "source": [
        "X=np.c_[np.ones((X.shape[0],1)),X]\n",
        "print(X)"
      ],
      "execution_count": null,
      "outputs": [
        {
          "output_type": "stream",
          "text": [
            "[[ 1.      6.1101]\n",
            " [ 1.      5.5277]\n",
            " [ 1.      8.5186]\n",
            " [ 1.      7.0032]\n",
            " [ 1.      5.8598]\n",
            " [ 1.      8.3829]\n",
            " [ 1.      7.4764]\n",
            " [ 1.      8.5781]\n",
            " [ 1.      6.4862]\n",
            " [ 1.      5.0546]\n",
            " [ 1.      5.7107]\n",
            " [ 1.     14.164 ]\n",
            " [ 1.      5.734 ]\n",
            " [ 1.      8.4084]\n",
            " [ 1.      5.6407]\n",
            " [ 1.      5.3794]\n",
            " [ 1.      6.3654]\n",
            " [ 1.      5.1301]\n",
            " [ 1.      6.4296]\n",
            " [ 1.      7.0708]\n",
            " [ 1.      6.1891]\n",
            " [ 1.     20.27  ]\n",
            " [ 1.      5.4901]\n",
            " [ 1.      6.3261]\n",
            " [ 1.      5.5649]\n",
            " [ 1.     18.945 ]\n",
            " [ 1.     12.828 ]\n",
            " [ 1.     10.957 ]\n",
            " [ 1.     13.176 ]\n",
            " [ 1.     22.203 ]\n",
            " [ 1.      5.2524]\n",
            " [ 1.      6.5894]\n",
            " [ 1.      9.2482]\n",
            " [ 1.      5.8918]\n",
            " [ 1.      8.2111]\n",
            " [ 1.      7.9334]\n",
            " [ 1.      8.0959]\n",
            " [ 1.      5.6063]\n",
            " [ 1.     12.836 ]\n",
            " [ 1.      6.3534]\n",
            " [ 1.      5.4069]\n",
            " [ 1.      6.8825]\n",
            " [ 1.     11.708 ]\n",
            " [ 1.      5.7737]\n",
            " [ 1.      7.8247]\n",
            " [ 1.      7.0931]\n",
            " [ 1.      5.0702]\n",
            " [ 1.      5.8014]\n",
            " [ 1.     11.7   ]\n",
            " [ 1.      5.5416]\n",
            " [ 1.      7.5402]\n",
            " [ 1.      5.3077]\n",
            " [ 1.      7.4239]\n",
            " [ 1.      7.6031]\n",
            " [ 1.      6.3328]\n",
            " [ 1.      6.3589]\n",
            " [ 1.      6.2742]\n",
            " [ 1.      5.6397]\n",
            " [ 1.      9.3102]\n",
            " [ 1.      9.4536]\n",
            " [ 1.      8.8254]\n",
            " [ 1.      5.1793]\n",
            " [ 1.     21.279 ]\n",
            " [ 1.     14.908 ]\n",
            " [ 1.     18.959 ]\n",
            " [ 1.      7.2182]\n",
            " [ 1.      8.2951]\n",
            " [ 1.     10.236 ]\n",
            " [ 1.      5.4994]\n",
            " [ 1.     20.341 ]\n",
            " [ 1.     10.136 ]\n",
            " [ 1.      7.3345]\n",
            " [ 1.      6.0062]\n",
            " [ 1.      7.2259]\n",
            " [ 1.      5.0269]\n",
            " [ 1.      6.5479]\n",
            " [ 1.      7.5386]\n",
            " [ 1.      5.0365]\n",
            " [ 1.     10.274 ]\n",
            " [ 1.      5.1077]\n",
            " [ 1.      5.7292]\n",
            " [ 1.      5.1884]\n",
            " [ 1.      6.3557]\n",
            " [ 1.      9.7687]\n",
            " [ 1.      6.5159]\n",
            " [ 1.      8.5172]\n",
            " [ 1.      9.1802]\n",
            " [ 1.      6.002 ]\n",
            " [ 1.      5.5204]\n",
            " [ 1.      5.0594]\n",
            " [ 1.      5.7077]\n",
            " [ 1.      7.6366]\n",
            " [ 1.      5.8707]\n",
            " [ 1.      5.3054]\n",
            " [ 1.      8.2934]\n",
            " [ 1.     13.394 ]\n",
            " [ 1.      5.4369]]\n"
          ],
          "name": "stdout"
        }
      ]
    },
    {
      "cell_type": "markdown",
      "metadata": {
        "id": "3zDmKgMGAV_B"
      },
      "source": [
        "Retona o valor de theta"
      ]
    },
    {
      "cell_type": "code",
      "metadata": {
        "colab": {
          "base_uri": "https://localhost:8080/"
        },
        "id": "cuLOLlls-q7R",
        "outputId": "45d2950d-fae7-4871-e4bb-8e95777ee305"
      },
      "source": [
        "theta = np.array([0,0],ndmin=2).T\n",
        "print(theta)"
      ],
      "execution_count": null,
      "outputs": [
        {
          "output_type": "stream",
          "text": [
            "[[0]\n",
            " [0]]\n"
          ],
          "name": "stdout"
        }
      ]
    },
    {
      "cell_type": "markdown",
      "metadata": {
        "id": "duNiWr18AZAT"
      },
      "source": [
        "Utiliza-se a função *def gd_reglin_uni* a fim de implementar o gradiente descendente e otimizar Θ (theta) e, desta forma, permitir a minimização da função de custo J (Θ), representada acima por \n",
        "J = custo_reglin_uni\n",
        "\n",
        "Usa-se a matriz numpy X, y e theta e atualiza theta executando passos de gradiente num_iters com taxa de aprendizagem de alfa para retornar theta e a lista do custo de theta durante cada iteração."
      ]
    },
    {
      "cell_type": "markdown",
      "metadata": {
        "id": "WxNUrZPSD5gn"
      },
      "source": [
        "Ao fim a função *print foi convocada de modo a  comprovar vaor de encontrado na funão *custo reglin*"
      ]
    },
    {
      "cell_type": "code",
      "metadata": {
        "colab": {
          "base_uri": "https://localhost:8080/"
        },
        "id": "aFIemtCi9Si7",
        "outputId": "f19e574c-4225-4b85-a690-c68dea4d2102"
      },
      "source": [
        "def gd_reglin_uni(X, y, alpha, epochs, theta = np.array([0,0], ndmin = 2).T):\n",
        "\n",
        "    m = len(y)\n",
        "\n",
        "    cost = np.zeros(epochs)\n",
        "\n",
        "    for i in range(epochs):\n",
        "    \th = X.dot(theta)\n",
        "    \tloss = h - y\n",
        "    \tgradient = X.T.dot(loss) / m\n",
        "    \ttheta = theta - (alpha * gradient)\n",
        "    \tcost[i] = custo_reglin_uni(X, y, theta = theta)\n",
        "\n",
        "    return cost[-1], theta\n",
        "    \n",
        "custo, theta = gd_reglin_uni(X, y , 0.01, 5000)\n",
        "print(custo)\n"
      ],
      "execution_count": null,
      "outputs": [
        {
          "output_type": "stream",
          "text": [
            "4.476971396982805\n"
          ],
          "name": "stdout"
        }
      ]
    },
    {
      "cell_type": "code",
      "metadata": {
        "colab": {
          "base_uri": "https://localhost:8080/"
        },
        "id": "CPcZpPdy_SGZ",
        "outputId": "25e97bb3-3abe-42c4-b03c-6dd233ab352c"
      },
      "source": [
        "print(theta)"
      ],
      "execution_count": null,
      "outputs": [
        {
          "output_type": "stream",
          "text": [
            "[[-3.89530051]\n",
            " [ 1.19298539]]\n"
          ],
          "name": "stdout"
        }
      ]
    },
    {
      "cell_type": "markdown",
      "metadata": {
        "id": "HhU8ptTfEqck"
      },
      "source": [
        "Theta[0][0] + (theta[1][0]*t\n",
        "Tupla [[0][1]]\n",
        "Elemento 1 dentro datupla maior = elemento 0 da tupla maior\n",
        "Elemento 2 da tupla maior = elemento 1 da tupla menor\n",
        "Porém ambos são o primeiro, i.e, 0zésimo elemento das mini tuplas.\n",
        "\n",
        "O theta foi alterado do codigo original, devido ao elemento theta, ter mais de uma variável possível. \n",
        "\n",
        "\n"
      ]
    },
    {
      "cell_type": "markdown",
      "metadata": {
        "id": "awm4lIY0R6uT"
      },
      "source": [
        "# Plot para visualização da reta com valores preditos"
      ]
    },
    {
      "cell_type": "markdown",
      "metadata": {
        "id": "GRuoIxhtSXBP"
      },
      "source": [
        "A função *def plot_reta1* apresenta os parâmetros de visualização da reta obtida com os valores de predição da função gerada a partir dos parâmetros previamente definidos nos blocos acima. A saber:\n",
        "\n",
        "As variáveis equalizadas abaixo dimensionam os valores para o eixo x e y de infinito a 0 e - 1.\n",
        "\n",
        "X = data.iloc[:, 0:-1].values\n",
        "\n",
        "y = data.iloc[:, -1:].values\n",
        "\n",
        "\n",
        "Definição do treinamento -> t = np.arange(0, 25, 1)\n",
        "\n",
        "Definição de cores , marcadors e legenda no gráfico para os parâmetros de treino ->\n",
        "    plt.scatter(X, y, color='purple', marker='*', label='Dados de Treino')\n",
        "\n",
        "\n",
        "Definição das cores e da legenda para Regressão Linear ->\n",
        "    plt.plot(t, theta[0][0] + (theta[1][0]*t), color='orange', label='Regressão Linear')\n",
        "\n",
        "\n",
        "Definição do eixo x -> \n",
        "    plt.axis([4, 25, -5, 25])\n",
        "\n",
        "\n",
        "Fornece o título do gráfico ->\n",
        "    plt.title('População da cidade x Lucro da filial')\n",
        "\n",
        "\n",
        "Nomeia o eixo X ->\n",
        "    plt.xlabel('População da cidade (10k)')\n",
        "\n",
        "\n",
        "Nomeia o eixo y ->\n",
        "    plt.ylabel('Lucro (10k)')\n"
      ]
    },
    {
      "cell_type": "code",
      "metadata": {
        "id": "TDxfRn2wCvHV"
      },
      "source": [
        "def plot_reta1(filepath, theta):\n",
        "    path = os.getcwd() + filepath\n",
        "    dataset = pd.read_csv(path, header=None)\n",
        "    X = dataset.iloc[:, 0:-1].values\n",
        "    y = dataset.iloc[:, -1:].values\n",
        "\n",
        "    t = np.arange(0, 25, 1)\n",
        "    plt.scatter(X, y, color='purple', marker='*', label='Dados de Treino')\n",
        "    plt.plot(t, theta[0][0] + (theta[1][0]*t), color='orange', label='Regressão Linear')\n",
        "    plt.axis([4, 25, -5, 25])\n",
        "    plt.title('População da cidade x Lucro da filial')\n",
        "    plt.xlabel('População da cidade (10k)')\n",
        "    plt.ylabel('Lucro (10k)')\n",
        "    \n",
        "    filename = 'target/plot1.2.png'\n",
        "    if not os.path.exists(os.path.dirname(filename)):\n",
        "        os.makedirs(os.path.dirname(filename))\n",
        "\n",
        "    plt.savefig(filename)"
      ],
      "execution_count": null,
      "outputs": []
    },
    {
      "cell_type": "markdown",
      "metadata": {
        "id": "tJuSDH4jUxhX"
      },
      "source": [
        "Chamando a função para visualização/ plot do gráfico com a rera de regressão linear em relação aos dados de treino."
      ]
    },
    {
      "cell_type": "code",
      "metadata": {
        "colab": {
          "base_uri": "https://localhost:8080/",
          "height": 312
        },
        "id": "0zDZpOGSF4y6",
        "outputId": "a98ba0d0-0241-4860-95fd-1c4e1dc53ccf"
      },
      "source": [
        "plot_reta1(\"/ex1data1.txt\", theta)"
      ],
      "execution_count": null,
      "outputs": [
        {
          "output_type": "display_data",
          "data": {
            "image/png": "[encoded data removed]",
            "text/plain": [
              "<Figure size 432x288 with 1 Axes>"
            ]
          },
          "metadata": {
            "tags": [],
            "needs_background": "light"
          }
        },
        {
          "output_type": "display_data",
          "data": {
            "text/plain": [
              "<Figure size 432x288 with 0 Axes>"
            ]
          },
          "metadata": {
            "tags": []
          }
        }
      ]
    },
    {
      "cell_type": "markdown",
      "metadata": {
        "id": "D6AymUCM9kE7"
      },
      "source": [
        ""
      ]
    },
    {
      "cell_type": "markdown",
      "metadata": {
        "id": "IfJTT8zlVQye"
      },
      "source": [
        "## Visualização do Lucro"
      ]
    },
    {
      "cell_type": "code",
      "metadata": {
        "id": "D9gshz55-biv"
      },
      "source": [
        "def lucro(pop, theta):\n",
        "  y = theta[0][0] + theta[1][0]*pop\n",
        "  return y\n"
      ],
      "execution_count": null,
      "outputs": []
    },
    {
      "cell_type": "code",
      "metadata": {
        "colab": {
          "base_uri": "https://localhost:8080/"
        },
        "id": "miO5AVAzJ1e-",
        "outputId": "505f7457-3c17-41c6-fbb1-3e54606c82a6"
      },
      "source": [
        "print(\"Para população = 35,000, predizemos um lucro de $\"+str(lucro(35000,theta)))"
      ],
      "execution_count": null,
      "outputs": [
        {
          "output_type": "stream",
          "text": [
            "Para população = 35,000, predizemos um lucro de $41750.59321117702\n"
          ],
          "name": "stdout"
        }
      ]
    },
    {
      "cell_type": "code",
      "metadata": {
        "colab": {
          "base_uri": "https://localhost:8080/"
        },
        "id": "j5vW0lNhLdU5",
        "outputId": "8932d256-b353-44f8-f2be-dc75e0712808"
      },
      "source": [
        "print(\"Para população = 70,000, predizemos um lucro de $\"+str(lucro(70000,theta)))"
      ],
      "execution_count": null,
      "outputs": [
        {
          "output_type": "stream",
          "text": [
            "Para população = 70,000, predizemos um lucro de $83505.0817228647\n"
          ],
          "name": "stdout"
        }
      ]
    },
    {
      "cell_type": "markdown",
      "metadata": {
        "id": "gY0K7xmTL4vF"
      },
      "source": [
        "# 1.3 Visualização de $J(\\theta)$\n",
        "\n",
        "\n"
      ]
    },
    {
      "cell_type": "markdown",
      "metadata": {
        "id": "HtBWQIBNVpeU"
      },
      "source": [
        "A função *def plot_contour* contém a parametrização dos valores de theta informados no enunciado do trabalho. A seguir, J é definido com seus valores iniciados com zero. O loop para o range de theta preenche os sucessivos valores de J. Ao fim, o comando np.transpose, transpoem os valores de J, invertendo as colunas. \n",
        "\n",
        "Para o plot, os contornos de J foram definidos em azul e os eixos x e y correspondem a theta0 e theta1."
      ]
    },
    {
      "cell_type": "code",
      "metadata": {
        "id": "zKmpTe8ZL8B-"
      },
      "source": [
        "def plot_contour(X, y, theta):\n",
        "    # Valores de theta0 e theta1 informados no enunciado do trabalho\n",
        "    theta0 = np.arange(-10, 10, 0.01)\n",
        "    theta1 = np.arange(-1, 4, 0.01)\n",
        "\n",
        "    # Inicia os valores de J com zeros\n",
        "    J = np.zeros((len(theta0), len(theta1)))\n",
        "\n",
        "    # Preenche os valores sucessivos de J\n",
        "    for i in range(len(theta0)):\n",
        "        for j in range(len(theta1)):\n",
        "            t = [[theta0[i]], [theta1[j]]]\n",
        "            J[i,j] = custo_reglin_uni(X, y, t)\n",
        "\n",
        "    # Transpoe J devido as funcoes contour/meshgrid\n",
        "    J = np.transpose(J)\n",
        "\n",
        "    # Plota a funcao de custo utilizando levels como logspace. Range -1 ~ 4 devido ao\n",
        "    # range de theta1 e 20 pois o theta0 tem 20 valores (-10 ate 10)\n",
        "    fig = plt.figure()\n",
        "    fig, ax = plt.subplots()\n",
        "    ax.contour(theta0, theta1, J, levels=np.logspace(-1, 4, 20), color='blue')\n",
        "    ax.plot(theta[0,0], theta[1,0], 'rx')\n",
        "    plt.xlabel('theta0')\n",
        "    plt.ylabel('theta1')\n",
        "    plt.show()\n",
        "\n",
        "    filename = 'target/plot1.3.1.png'\n",
        "    if not os.path.exists(os.path.dirname(filename)):\n",
        "        os.makedirs(os.path.dirname(filename))\n",
        "\n",
        "    plt.savefig(filename)\n",
        "\n",
        "    return J\n"
      ],
      "execution_count": null,
      "outputs": []
    },
    {
      "cell_type": "markdown",
      "metadata": {
        "id": "UPp-zHZeXI8e"
      },
      "source": [
        "Chama a função plot_contour para visualização "
      ]
    },
    {
      "cell_type": "markdown",
      "metadata": {
        "id": "5andrCgrOBHj"
      },
      "source": [
        "o x em vermelho representa mínimo global, ou seja, o theta ótimo. Já as elipses são as curvas de níveis de um parabolóide em 2D. Quanto mais longe do mínimo global maior será o custo (J).\n"
      ]
    },
    {
      "cell_type": "code",
      "metadata": {
        "colab": {
          "base_uri": "https://localhost:8080/",
          "height": 332
        },
        "id": "aBzwCAJ8M3mW",
        "outputId": "29bb60e4-0538-45e1-a234-3a409b351c58"
      },
      "source": [
        "J = plot_contour(X, y, theta)\n"
      ],
      "execution_count": null,
      "outputs": [
        {
          "output_type": "stream",
          "text": [
            "/usr/local/lib/python3.7/dist-packages/ipykernel_launcher.py:22: UserWarning: The following kwargs were not used by contour: 'color'\n"
          ],
          "name": "stderr"
        },
        {
          "output_type": "display_data",
          "data": {
            "text/plain": [
              "<Figure size 432x288 with 0 Axes>"
            ]
          },
          "metadata": {
            "tags": []
          }
        },
        {
          "output_type": "display_data",
          "data": {
            "image/png": "[encoded data removed]",
            "text/plain": [
              "<Figure size 432x288 with 1 Axes>"
            ]
          },
          "metadata": {
            "tags": [],
            "needs_background": "light"
          }
        },
        {
          "output_type": "display_data",
          "data": {
            "text/plain": [
              "<Figure size 432x288 with 0 Axes>"
            ]
          },
          "metadata": {
            "tags": []
          }
        }
      ]
    },
    {
      "cell_type": "markdown",
      "metadata": {
        "id": "vel3C-8nX6aT"
      },
      "source": [
        "A função *def_plot surface demonstra a versão 3D de J. "
      ]
    },
    {
      "cell_type": "code",
      "metadata": {
        "id": "zAynWKw6Oc1c"
      },
      "source": [
        "def plot_surface(J):\n",
        "    # Valores de theta0 e theta1 informados no enunciado do trabalho\n",
        "    theta0 = np.arange(-10, 10, 0.01)\n",
        "    theta1 = np.arange(-1, 4, 0.01)\n",
        "    \n",
        "\n",
        "    # Comandos necessarios para o matplotlib plotar em 3D\n",
        "    fig = plt.figure()\n",
        "    ax = fig.gca(projection='3d')\n",
        "    \n",
        "\n",
        "    # Plotando o grafico de superficie\n",
        "    theta0, theta1 = np.meshgrid(theta0, theta1)\n",
        "    surf = ax.plot_surface(theta0, theta1, J)\n",
        "    plt.xlabel('theta_0')\n",
        "    plt.ylabel('theta_1')\n",
        "    plt.show()\n",
        "\n",
        "    filename = 'target/plot1.3.2.png'\n",
        "    if not os.path.exists(os.path.dirname(filename)):\n",
        "        os.makedirs(os.path.dirname(filename))\n",
        "\n",
        "    plt.savefig(filename)\n",
        "\n",
        "    return surf"
      ],
      "execution_count": null,
      "outputs": []
    },
    {
      "cell_type": "markdown",
      "metadata": {
        "id": "ILgf6-ZcYItS"
      },
      "source": [
        "Chamando a função para visulização de J em 3D."
      ]
    },
    {
      "cell_type": "code",
      "metadata": {
        "colab": {
          "base_uri": "https://localhost:8080/",
          "height": 283
        },
        "id": "TBPgkANcQO6e",
        "outputId": "2d527c25-c4b0-4687-dd70-4108c485a35a"
      },
      "source": [
        "plot_surface(J)"
      ],
      "execution_count": null,
      "outputs": [
        {
          "output_type": "display_data",
          "data": {
            "image/png": "[encoded data removed]",
            "text/plain": [
              "<Figure size 432x288 with 1 Axes>"
            ]
          },
          "metadata": {
            "tags": [],
            "needs_background": "light"
          }
        },
        {
          "output_type": "execute_result",
          "data": {
            "text/plain": [
              "<mpl_toolkits.mplot3d.art3d.Poly3DCollection at 0x7f9f15719190>"
            ]
          },
          "metadata": {
            "tags": []
          },
          "execution_count": 295
        },
        {
          "output_type": "display_data",
          "data": {
            "text/plain": [
              "<Figure size 432x288 with 0 Axes>"
            ]
          },
          "metadata": {
            "tags": []
          }
        }
      ]
    },
    {
      "cell_type": "markdown",
      "metadata": {
        "id": "6bYrPfGeYU7V"
      },
      "source": [
        "# 2. Regressão Linear com Múltiplas Variáveis"
      ]
    },
    {
      "cell_type": "markdown",
      "metadata": {
        "id": "wK5EKMGPYXCd"
      },
      "source": [
        "Como já visto, a regressão linear é utilizada para estabelecer relações entre as variáveis, possibilitando a predição ou estimativa de outras variáveis. Ao contrário a regressão linear simples, a aplicação a seguir utilizará mais de uma variável a fim de executar suas predições.\n",
        "\n",
        "\n",
        "\n"
      ]
    },
    {
      "cell_type": "markdown",
      "metadata": {
        "id": "eJFHofRqZuE7"
      },
      "source": [
        "Abre-se o arquivo ex1data2.txt com os valores de tamanho, dormitórios e preço dos imoveis."
      ]
    },
    {
      "cell_type": "code",
      "metadata": {
        "colab": {
          "base_uri": "https://localhost:8080/",
          "height": 197
        },
        "id": "HHu3GUj4T1LG",
        "outputId": "4bfe2fa8-2561-417d-ba4b-a8e695884ae3"
      },
      "source": [
        "f2 = pd.read_csv(\"ex1data2.txt\", names = [\"Tamanho\", \"Cômodos\", \"Valor\"])\n",
        "f2.head()"
      ],
      "execution_count": null,
      "outputs": [
        {
          "output_type": "execute_result",
          "data": {
            "text/html": [
              "<div>\n",
              "<style scoped>\n",
              "    .dataframe tbody tr th:only-of-type {\n",
              "        vertical-align: middle;\n",
              "    }\n",
              "\n",
              "    .dataframe tbody tr th {\n",
              "        vertical-align: top;\n",
              "    }\n",
              "\n",
              "    .dataframe thead th {\n",
              "        text-align: right;\n",
              "    }\n",
              "</style>\n",
              "<table border=\"1\" class=\"dataframe\">\n",
              "  <thead>\n",
              "    <tr style=\"text-align: right;\">\n",
              "      <th></th>\n",
              "      <th>Tamanho</th>\n",
              "      <th>Cômodos</th>\n",
              "      <th>Valor</th>\n",
              "    </tr>\n",
              "  </thead>\n",
              "  <tbody>\n",
              "    <tr>\n",
              "      <th>0</th>\n",
              "      <td>2104</td>\n",
              "      <td>3</td>\n",
              "      <td>399900</td>\n",
              "    </tr>\n",
              "    <tr>\n",
              "      <th>1</th>\n",
              "      <td>1600</td>\n",
              "      <td>3</td>\n",
              "      <td>329900</td>\n",
              "    </tr>\n",
              "    <tr>\n",
              "      <th>2</th>\n",
              "      <td>2400</td>\n",
              "      <td>3</td>\n",
              "      <td>369000</td>\n",
              "    </tr>\n",
              "    <tr>\n",
              "      <th>3</th>\n",
              "      <td>1416</td>\n",
              "      <td>2</td>\n",
              "      <td>232000</td>\n",
              "    </tr>\n",
              "    <tr>\n",
              "      <th>4</th>\n",
              "      <td>3000</td>\n",
              "      <td>4</td>\n",
              "      <td>539900</td>\n",
              "    </tr>\n",
              "  </tbody>\n",
              "</table>\n",
              "</div>"
            ],
            "text/plain": [
              "   Tamanho  Cômodos   Valor\n",
              "0     2104        3  399900\n",
              "1     1600        3  329900\n",
              "2     2400        3  369000\n",
              "3     1416        2  232000\n",
              "4     3000        4  539900"
            ]
          },
          "metadata": {
            "tags": []
          },
          "execution_count": 296
        }
      ]
    },
    {
      "cell_type": "code",
      "metadata": {
        "id": "ONsuIfaM2J_n",
        "colab": {
          "base_uri": "https://localhost:8080/",
          "height": 197
        },
        "outputId": "c5201fc2-c148-4f54-fa29-9685008ff8bf"
      },
      "source": [
        "f2 = pd.read_csv(\"ex1data2.txt\", header=None, names=[\"tamanho\", \"Comodos\", \"valor\"])\n",
        "f2.head()\n",
        "#Lendo dados utilizando o código dado para o trabalho\n",
        "#X2, y2 = importarDados(\"/ex1data2.txt\", names=['Tamanho','Cômodos', 'valor'])\"\""
      ],
      "execution_count": null,
      "outputs": [
        {
          "output_type": "execute_result",
          "data": {
            "text/html": [
              "<div>\n",
              "<style scoped>\n",
              "    .dataframe tbody tr th:only-of-type {\n",
              "        vertical-align: middle;\n",
              "    }\n",
              "\n",
              "    .dataframe tbody tr th {\n",
              "        vertical-align: top;\n",
              "    }\n",
              "\n",
              "    .dataframe thead th {\n",
              "        text-align: right;\n",
              "    }\n",
              "</style>\n",
              "<table border=\"1\" class=\"dataframe\">\n",
              "  <thead>\n",
              "    <tr style=\"text-align: right;\">\n",
              "      <th></th>\n",
              "      <th>tamanho</th>\n",
              "      <th>Comodos</th>\n",
              "      <th>valor</th>\n",
              "    </tr>\n",
              "  </thead>\n",
              "  <tbody>\n",
              "    <tr>\n",
              "      <th>0</th>\n",
              "      <td>2104</td>\n",
              "      <td>3</td>\n",
              "      <td>399900</td>\n",
              "    </tr>\n",
              "    <tr>\n",
              "      <th>1</th>\n",
              "      <td>1600</td>\n",
              "      <td>3</td>\n",
              "      <td>329900</td>\n",
              "    </tr>\n",
              "    <tr>\n",
              "      <th>2</th>\n",
              "      <td>2400</td>\n",
              "      <td>3</td>\n",
              "      <td>369000</td>\n",
              "    </tr>\n",
              "    <tr>\n",
              "      <th>3</th>\n",
              "      <td>1416</td>\n",
              "      <td>2</td>\n",
              "      <td>232000</td>\n",
              "    </tr>\n",
              "    <tr>\n",
              "      <th>4</th>\n",
              "      <td>3000</td>\n",
              "      <td>4</td>\n",
              "      <td>539900</td>\n",
              "    </tr>\n",
              "  </tbody>\n",
              "</table>\n",
              "</div>"
            ],
            "text/plain": [
              "   tamanho  Comodos   valor\n",
              "0     2104        3  399900\n",
              "1     1600        3  329900\n",
              "2     2400        3  369000\n",
              "3     1416        2  232000\n",
              "4     3000        4  539900"
            ]
          },
          "metadata": {
            "tags": []
          },
          "execution_count": 297
        }
      ]
    },
    {
      "cell_type": "markdown",
      "metadata": {
        "id": "QBClVw3okPf2"
      },
      "source": [
        "Apresentação a dimensão da matriz do arquivo ex1data2."
      ]
    },
    {
      "cell_type": "code",
      "metadata": {
        "colab": {
          "base_uri": "https://localhost:8080/"
        },
        "id": "ZrPpXAST3oYZ",
        "outputId": "ec337044-3d4c-4ccb-ef32-1d7e0a0d9c37"
      },
      "source": [
        "f2.shape"
      ],
      "execution_count": null,
      "outputs": [
        {
          "output_type": "execute_result",
          "data": {
            "text/plain": [
              "(47, 3)"
            ]
          },
          "metadata": {
            "tags": []
          },
          "execution_count": 298
        }
      ]
    },
    {
      "cell_type": "code",
      "metadata": {
        "id": "KumJWnSZ3W2P"
      },
      "source": [
        "X2, y2 = importarDados(filepath=\"/ex1data2.txt\", names=[\"tamanho\", \"Comodos\", \"valor\"])"
      ],
      "execution_count": null,
      "outputs": []
    },
    {
      "cell_type": "markdown",
      "metadata": {
        "id": "33ebIVmEnSL_"
      },
      "source": [
        "Abaixo, apresenta-se os valores da média e desvio padrão de cada caracrterística."
      ]
    },
    {
      "cell_type": "code",
      "metadata": {
        "colab": {
          "base_uri": "https://localhost:8080/"
        },
        "id": "NJIuxrbPIK5D",
        "outputId": "e143d8f9-6171-4085-edce-6af78e6a6c05"
      },
      "source": [
        "mt, md, mv = f2.mean()\n",
        "#O valor da média será modificado quando normalizado. Como temos armazenado em f2, não esterei armazenando a partir de X2\n",
        "np.mean(X2, axis=0)"
      ],
      "execution_count": null,
      "outputs": [
        {
          "output_type": "execute_result",
          "data": {
            "text/plain": [
              "array([2000.68085106,    3.17021277])"
            ]
          },
          "metadata": {
            "tags": []
          },
          "execution_count": 300
        }
      ]
    },
    {
      "cell_type": "markdown",
      "metadata": {
        "id": "jo6HuCP-klCX"
      },
      "source": [
        "Resume as estatísticas de dados."
      ]
    },
    {
      "cell_type": "code",
      "metadata": {
        "colab": {
          "base_uri": "https://localhost:8080/",
          "height": 287
        },
        "id": "LmieZjzZITey",
        "outputId": "234f9943-5ff7-47fa-bd0b-ae9b5df93ee1"
      },
      "source": [
        "f2.describe()"
      ],
      "execution_count": null,
      "outputs": [
        {
          "output_type": "execute_result",
          "data": {
            "text/html": [
              "<div>\n",
              "<style scoped>\n",
              "    .dataframe tbody tr th:only-of-type {\n",
              "        vertical-align: middle;\n",
              "    }\n",
              "\n",
              "    .dataframe tbody tr th {\n",
              "        vertical-align: top;\n",
              "    }\n",
              "\n",
              "    .dataframe thead th {\n",
              "        text-align: right;\n",
              "    }\n",
              "</style>\n",
              "<table border=\"1\" class=\"dataframe\">\n",
              "  <thead>\n",
              "    <tr style=\"text-align: right;\">\n",
              "      <th></th>\n",
              "      <th>tamanho</th>\n",
              "      <th>Comodos</th>\n",
              "      <th>valor</th>\n",
              "    </tr>\n",
              "  </thead>\n",
              "  <tbody>\n",
              "    <tr>\n",
              "      <th>count</th>\n",
              "      <td>47.000000</td>\n",
              "      <td>47.000000</td>\n",
              "      <td>47.000000</td>\n",
              "    </tr>\n",
              "    <tr>\n",
              "      <th>mean</th>\n",
              "      <td>2000.680851</td>\n",
              "      <td>3.170213</td>\n",
              "      <td>340412.659574</td>\n",
              "    </tr>\n",
              "    <tr>\n",
              "      <th>std</th>\n",
              "      <td>794.702354</td>\n",
              "      <td>0.760982</td>\n",
              "      <td>125039.899586</td>\n",
              "    </tr>\n",
              "    <tr>\n",
              "      <th>min</th>\n",
              "      <td>852.000000</td>\n",
              "      <td>1.000000</td>\n",
              "      <td>169900.000000</td>\n",
              "    </tr>\n",
              "    <tr>\n",
              "      <th>25%</th>\n",
              "      <td>1432.000000</td>\n",
              "      <td>3.000000</td>\n",
              "      <td>249900.000000</td>\n",
              "    </tr>\n",
              "    <tr>\n",
              "      <th>50%</th>\n",
              "      <td>1888.000000</td>\n",
              "      <td>3.000000</td>\n",
              "      <td>299900.000000</td>\n",
              "    </tr>\n",
              "    <tr>\n",
              "      <th>75%</th>\n",
              "      <td>2269.000000</td>\n",
              "      <td>4.000000</td>\n",
              "      <td>384450.000000</td>\n",
              "    </tr>\n",
              "    <tr>\n",
              "      <th>max</th>\n",
              "      <td>4478.000000</td>\n",
              "      <td>5.000000</td>\n",
              "      <td>699900.000000</td>\n",
              "    </tr>\n",
              "  </tbody>\n",
              "</table>\n",
              "</div>"
            ],
            "text/plain": [
              "           tamanho    Comodos          valor\n",
              "count    47.000000  47.000000      47.000000\n",
              "mean   2000.680851   3.170213  340412.659574\n",
              "std     794.702354   0.760982  125039.899586\n",
              "min     852.000000   1.000000  169900.000000\n",
              "25%    1432.000000   3.000000  249900.000000\n",
              "50%    1888.000000   3.000000  299900.000000\n",
              "75%    2269.000000   4.000000  384450.000000\n",
              "max    4478.000000   5.000000  699900.000000"
            ]
          },
          "metadata": {
            "tags": []
          },
          "execution_count": 301
        }
      ]
    },
    {
      "cell_type": "markdown",
      "metadata": {
        "id": "pDitduakmL_j"
      },
      "source": [
        "# 2.1 Normalização das características"
      ]
    },
    {
      "cell_type": "markdown",
      "metadata": {
        "id": "fYlbHWpSmTCZ"
      },
      "source": [
        "A normalização realiza uma operação vetorizada. "
      ]
    },
    {
      "cell_type": "code",
      "metadata": {
        "id": "V7ejIgvYHksA"
      },
      "source": [
        "#Z-Score norm\n",
        "def normalizar(X):\n",
        "    mean_X = np.mean(X, axis=0)\n",
        "    std_X = np.std(X, axis=0)\n",
        "    X_norm = (X - mean_X) / std_X\n",
        "\n",
        "    # Incluir o valor de 1 em x, pois theta0 = 1\n",
        "    X_norm = np.c_[np.ones((X_norm.shape[0], 1)), X_norm]\n",
        "\n",
        "    return X_norm"
      ],
      "execution_count": null,
      "outputs": []
    },
    {
      "cell_type": "markdown",
      "metadata": {
        "id": "3IAW7RD_njjo"
      },
      "source": [
        "Chamando a função normalizar para a variável X2. \n",
        "\n",
        "A normalização de recursos faz-se necessária em problemas com multivariáveis na gradiente descendente, pois aceleram o processo de otimização."
      ]
    },
    {
      "cell_type": "code",
      "metadata": {
        "id": "baBHwSYWENgf"
      },
      "source": [
        "X2 = normalizar(X2)"
      ],
      "execution_count": null,
      "outputs": []
    },
    {
      "cell_type": "markdown",
      "metadata": {
        "id": "0X12kRnRnqot"
      },
      "source": [
        ""
      ]
    },
    {
      "cell_type": "code",
      "metadata": {
        "id": "PsiNEjhNLINk"
      },
      "source": [
        "def custo_reglin_multi(X, y, theta):\n",
        "    # Quantidade de exemplos\n",
        "    m = len(y)\n",
        "\n",
        "    # Computa a funcao de custo J\n",
        "    J = (np.sum((X.dot(theta)- y)**2)) / (2 * m)\n",
        "\n",
        "    return J"
      ],
      "execution_count": null,
      "outputs": []
    },
    {
      "cell_type": "markdown",
      "metadata": {
        "id": "9ZytlFRYpV1k"
      },
      "source": [
        "A função *def gd* permite impantação de gradiente descendente utilizada na questão 1, porém para mais de uma variável. No caso abaixo, ela é aplicada para X e y."
      ]
    },
    {
      "cell_type": "code",
      "metadata": {
        "id": "2hw6u3TCJPkj"
      },
      "source": [
        "def gd(X, y, alpha, epochs, theta=np.array([0,0,0], ndmin = 2).T):\n",
        "\n",
        "    m = len(y)\n",
        "\n",
        "    cost = np.zeros(epochs)\n",
        "\n",
        "    for i in range(epochs):\n",
        "        h = X.dot(theta)\n",
        "        loss = h - y\n",
        "        gradient = X.T.dot(loss) / m\n",
        "        theta = theta - (alpha * gradient)\n",
        "        cost[i] = custo_reglin_multi(X, y, theta=theta)\n",
        "\n",
        "    return cost[-1], theta\n"
      ],
      "execution_count": null,
      "outputs": []
    },
    {
      "cell_type": "code",
      "metadata": {
        "id": "IhWEPC72JhnF"
      },
      "source": [
        "def custo_reglin_multi(X, y, theta):\n",
        "    # Quantidade de exemplos\n",
        "    m = len(y)\n",
        "\n",
        "    # Computa a funcao de custo J\n",
        "    J = (np.sum((X.dot(theta)- y)**2)) / (2 * m)\n",
        "\n",
        "    return J"
      ],
      "execution_count": null,
      "outputs": []
    },
    {
      "cell_type": "code",
      "metadata": {
        "colab": {
          "base_uri": "https://localhost:8080/"
        },
        "id": "Iq7kv3D7LbyM",
        "outputId": "b80d82fc-76e6-46ec-cd97-58ec9e3f0c51"
      },
      "source": [
        "custo, theta2 = gd (X2, y2, 0.01, 5000)\n",
        "print(\"O custo é \",custo)\n",
        "print(\"O vetor theta corresponde aos valores\",theta2)"
      ],
      "execution_count": null,
      "outputs": [
        {
          "output_type": "stream",
          "text": [
            "O custo é  2043280050.6028287\n",
            "O vetor theta corresponde aos valores [[340412.65957447]\n",
            " [109447.79645425]\n",
            " [ -6578.35483877]]\n"
          ],
          "name": "stdout"
        }
      ]
    },
    {
      "cell_type": "markdown",
      "metadata": {
        "id": "op3T4klIMtAp"
      },
      "source": [
        "# 3.Regressão Logística"
      ]
    },
    {
      "cell_type": "markdown",
      "metadata": {
        "id": "iwJlXj3uq8oU"
      },
      "source": [
        "A regressão logística é usada em problemas de classificação cujos rótulos são números discretos. Já na regressão linear, os rótulos são variáveis ​​contínuas."
      ]
    },
    {
      "cell_type": "markdown",
      "metadata": {
        "id": "NE9M2LWGsyqI"
      },
      "source": [
        "### 3.1 Visualização de dados"
      ]
    },
    {
      "cell_type": "markdown",
      "metadata": {
        "id": "hpf9n187qZZ0"
      },
      "source": [
        "Importando e visualizando dados."
      ]
    },
    {
      "cell_type": "code",
      "metadata": {
        "colab": {
          "base_uri": "https://localhost:8080/",
          "height": 197
        },
        "id": "ycblX8_FMqG1",
        "outputId": "09467855-69fb-4cb9-94a6-5143b974fee1"
      },
      "source": [
        "f3 = pd.read_csv(\"ex2data1.txt\", names = [\"Avaliação 1\", \"Avaliação 2\", \"Classificação\"])\n",
        "f3.head()"
      ],
      "execution_count": null,
      "outputs": [
        {
          "output_type": "execute_result",
          "data": {
            "text/html": [
              "<div>\n",
              "<style scoped>\n",
              "    .dataframe tbody tr th:only-of-type {\n",
              "        vertical-align: middle;\n",
              "    }\n",
              "\n",
              "    .dataframe tbody tr th {\n",
              "        vertical-align: top;\n",
              "    }\n",
              "\n",
              "    .dataframe thead th {\n",
              "        text-align: right;\n",
              "    }\n",
              "</style>\n",
              "<table border=\"1\" class=\"dataframe\">\n",
              "  <thead>\n",
              "    <tr style=\"text-align: right;\">\n",
              "      <th></th>\n",
              "      <th>Avaliação 1</th>\n",
              "      <th>Avaliação 2</th>\n",
              "      <th>Classificação</th>\n",
              "    </tr>\n",
              "  </thead>\n",
              "  <tbody>\n",
              "    <tr>\n",
              "      <th>0</th>\n",
              "      <td>34.623660</td>\n",
              "      <td>78.024693</td>\n",
              "      <td>0</td>\n",
              "    </tr>\n",
              "    <tr>\n",
              "      <th>1</th>\n",
              "      <td>30.286711</td>\n",
              "      <td>43.894998</td>\n",
              "      <td>0</td>\n",
              "    </tr>\n",
              "    <tr>\n",
              "      <th>2</th>\n",
              "      <td>35.847409</td>\n",
              "      <td>72.902198</td>\n",
              "      <td>0</td>\n",
              "    </tr>\n",
              "    <tr>\n",
              "      <th>3</th>\n",
              "      <td>60.182599</td>\n",
              "      <td>86.308552</td>\n",
              "      <td>1</td>\n",
              "    </tr>\n",
              "    <tr>\n",
              "      <th>4</th>\n",
              "      <td>79.032736</td>\n",
              "      <td>75.344376</td>\n",
              "      <td>1</td>\n",
              "    </tr>\n",
              "  </tbody>\n",
              "</table>\n",
              "</div>"
            ],
            "text/plain": [
              "   Avaliação 1  Avaliação 2  Classificação\n",
              "0    34.623660    78.024693              0\n",
              "1    30.286711    43.894998              0\n",
              "2    35.847409    72.902198              0\n",
              "3    60.182599    86.308552              1\n",
              "4    79.032736    75.344376              1"
            ]
          },
          "metadata": {
            "tags": []
          },
          "execution_count": 8
        }
      ]
    },
    {
      "cell_type": "code",
      "metadata": {
        "colab": {
          "base_uri": "https://localhost:8080/",
          "height": 197
        },
        "id": "cRizyUOMbMU3",
        "outputId": "7d4cc4d3-d1e0-480c-9f8c-5f4dde1e981f"
      },
      "source": [
        "f3 = pd.read_csv(\"ex2data1.txt\", header=None, names=[\"Avaliação 1\", \"Avaliação 2\", \"Classificação\"])\n",
        "f3.head()"
      ],
      "execution_count": null,
      "outputs": [
        {
          "output_type": "execute_result",
          "data": {
            "text/html": [
              "<div>\n",
              "<style scoped>\n",
              "    .dataframe tbody tr th:only-of-type {\n",
              "        vertical-align: middle;\n",
              "    }\n",
              "\n",
              "    .dataframe tbody tr th {\n",
              "        vertical-align: top;\n",
              "    }\n",
              "\n",
              "    .dataframe thead th {\n",
              "        text-align: right;\n",
              "    }\n",
              "</style>\n",
              "<table border=\"1\" class=\"dataframe\">\n",
              "  <thead>\n",
              "    <tr style=\"text-align: right;\">\n",
              "      <th></th>\n",
              "      <th>Avaliação 1</th>\n",
              "      <th>Avaliação 2</th>\n",
              "      <th>Classificação</th>\n",
              "    </tr>\n",
              "  </thead>\n",
              "  <tbody>\n",
              "    <tr>\n",
              "      <th>0</th>\n",
              "      <td>34.623660</td>\n",
              "      <td>78.024693</td>\n",
              "      <td>0</td>\n",
              "    </tr>\n",
              "    <tr>\n",
              "      <th>1</th>\n",
              "      <td>30.286711</td>\n",
              "      <td>43.894998</td>\n",
              "      <td>0</td>\n",
              "    </tr>\n",
              "    <tr>\n",
              "      <th>2</th>\n",
              "      <td>35.847409</td>\n",
              "      <td>72.902198</td>\n",
              "      <td>0</td>\n",
              "    </tr>\n",
              "    <tr>\n",
              "      <th>3</th>\n",
              "      <td>60.182599</td>\n",
              "      <td>86.308552</td>\n",
              "      <td>1</td>\n",
              "    </tr>\n",
              "    <tr>\n",
              "      <th>4</th>\n",
              "      <td>79.032736</td>\n",
              "      <td>75.344376</td>\n",
              "      <td>1</td>\n",
              "    </tr>\n",
              "  </tbody>\n",
              "</table>\n",
              "</div>"
            ],
            "text/plain": [
              "   Avaliação 1  Avaliação 2  Classificação\n",
              "0    34.623660    78.024693              0\n",
              "1    30.286711    43.894998              0\n",
              "2    35.847409    72.902198              0\n",
              "3    60.182599    86.308552              1\n",
              "4    79.032736    75.344376              1"
            ]
          },
          "metadata": {
            "tags": []
          },
          "execution_count": 45
        }
      ]
    },
    {
      "cell_type": "code",
      "metadata": {
        "id": "7Ocusb-Va3A6"
      },
      "source": [
        "X3, y3 = importarDados(filepath=\"/ex2data1.txt\", names=[\"Avaliação 1\", \"Avaliação 2\", \"Classificação/\"])\n"
      ],
      "execution_count": null,
      "outputs": []
    },
    {
      "cell_type": "markdown",
      "metadata": {
        "id": "fVd7zZcIqlMZ"
      },
      "source": [
        "A função abaixo fornece os parâmetros para a visualização do gráfico, semelhante aos já descritos em sessoões anteriores,"
      ]
    },
    {
      "cell_type": "code",
      "metadata": {
        "id": "U3wSOe4kOHpo"
      },
      "source": [
        "def plot3(data, filename = 'target/plot3.1.png'):\n",
        "    # gerando o grafico de dispersao para analise preliminar dos dados\n",
        "    positivo = data[data['Classificação'].isin([1])]\n",
        "    negativo = data[data['Classificação'].isin([0])]\n",
        "\n",
        "    fig, ax = plt.subplots(figsize=(12,8))\n",
        "    ax.scatter(positivo['Avaliação 1'], positivo['Avaliação 2'], s=50, c='k', marker='+', label='Classificado')\n",
        "    ax.scatter(negativo['Avaliação 1'], negativo['Avaliação 2'], s=50, c='y', marker='o', label='Não Classificado')\n",
        "    ax.legend()\n",
        "    ax.set_xlabel('Nota da Avaliação 1')\n",
        "    ax.set_ylabel('Nota da Avaliação 2')\n",
        "\n",
        "    if not os.path.exists(os.path.dirname(filename)):\n",
        "        os.makedirs(os.path.dirname(filename))\n",
        "\n",
        "    plt.savefig(filename)\n",
        "    plt.show()"
      ],
      "execution_count": null,
      "outputs": []
    },
    {
      "cell_type": "markdown",
      "metadata": {
        "id": "I6V4MMLerREe"
      },
      "source": [
        "Visualização do Gráfico de dispersão com as notas das Avaliações 1 e 2\n",
        "\n",
        "É possível inferir pela image abaixo que apenas uma nota muito alta em apenas uma das valiações não garante a aprovação do aluno. Sendo assim, é possível sugerir que as notas são dadas por média aritmética com peso 1 para cada uma das avaliações. "
      ]
    },
    {
      "cell_type": "code",
      "metadata": {
        "colab": {
          "base_uri": "https://localhost:8080/",
          "height": 496
        },
        "id": "4AtkEYpKOopd",
        "outputId": "bb6d13bb-a439-42b2-8ade-9c4dd95b2c8a"
      },
      "source": [
        "plot3(f3)"
      ],
      "execution_count": null,
      "outputs": [
        {
          "output_type": "display_data",
          "data": {
            "image/png": "[encoded data removed]",
            "text/plain": [
              "<Figure size 864x576 with 1 Axes>"
            ]
          },
          "metadata": {
            "tags": [],
            "needs_background": "light"
          }
        }
      ]
    },
    {
      "cell_type": "markdown",
      "metadata": {
        "id": "eEtKazCTshhQ"
      },
      "source": [
        "## 3.2 Implementação "
      ]
    },
    {
      "cell_type": "markdown",
      "metadata": {
        "id": "qFP27MjnQQ4_"
      },
      "source": [
        "## 3.2.1 Função Sigmoide"
      ]
    },
    {
      "cell_type": "markdown",
      "metadata": {
        "id": "1wpw3lzPs_GV"
      },
      "source": [
        "A função sigmoide é utilizada para diferenciar a regressão logística da linear. Sua definição é dada a seguir com z = 0 e retorna o valor de 0,5."
      ]
    },
    {
      "cell_type": "code",
      "metadata": {
        "id": "X_PJNOqAPgTt"
      },
      "source": [
        "def sigmoide(z):\n",
        "    return 1.0 / (1 + np.exp(-z))"
      ],
      "execution_count": null,
      "outputs": []
    },
    {
      "cell_type": "code",
      "metadata": {
        "colab": {
          "base_uri": "https://localhost:8080/"
        },
        "id": "lWMdJyAMQl90",
        "outputId": "1e0e759e-1dbe-4287-ad78-6af3f6b8c5e7"
      },
      "source": [
        "print(sigmoide(0))"
      ],
      "execution_count": null,
      "outputs": [
        {
          "output_type": "stream",
          "text": [
            "0.5\n"
          ],
          "name": "stdout"
        }
      ]
    },
    {
      "cell_type": "markdown",
      "metadata": {
        "id": "ZWuMdWUg9mKL"
      },
      "source": [
        "Testes com valores de sigmoides muito altos retornam o valor de um. "
      ]
    },
    {
      "cell_type": "code",
      "metadata": {
        "colab": {
          "base_uri": "https://localhost:8080/"
        },
        "id": "FjY5mW7SP40k",
        "outputId": "0c3e0995-df38-4f7f-e337-193b4d16cbbe"
      },
      "source": [
        "print(sigmoide(1000000000))"
      ],
      "execution_count": null,
      "outputs": [
        {
          "output_type": "stream",
          "text": [
            "1.0\n"
          ],
          "name": "stdout"
        }
      ]
    },
    {
      "cell_type": "markdown",
      "metadata": {
        "id": "NCzWCQcPEqaH"
      },
      "source": [
        "Teste com valor de simoide muito baixo retorna um valor de 0. "
      ]
    },
    {
      "cell_type": "code",
      "metadata": {
        "colab": {
          "base_uri": "https://localhost:8080/"
        },
        "id": "K99FA-RxP9Fm",
        "outputId": "2fb37e45-f467-4c44-da50-919dae12bf97"
      },
      "source": [
        "print(sigmoide(-100000000))"
      ],
      "execution_count": null,
      "outputs": [
        {
          "output_type": "stream",
          "text": [
            "0.0\n"
          ],
          "name": "stdout"
        },
        {
          "output_type": "stream",
          "text": [
            "/usr/local/lib/python3.7/dist-packages/ipykernel_launcher.py:2: RuntimeWarning: overflow encountered in exp\n",
            "  \n"
          ],
          "name": "stderr"
        }
      ]
    },
    {
      "cell_type": "markdown",
      "metadata": {
        "id": "kz4NAfTL-Qrf"
      },
      "source": [
        "A função *custo_reglog* calcula o valor de J(Θ) e gradiente, *i.e.*, a derivada parcial de J(Θ) em relação a cada Θ."
      ]
    },
    {
      "cell_type": "code",
      "metadata": {
        "id": "601NSWphO8sr"
      },
      "source": [
        "def custo_reglog(theta, X, y):\n",
        "    theta = np.matrix(theta)\n",
        "    X = np.matrix(X)\n",
        "    y = np.matrix(y)\n",
        "    grad0 = np.multiply(-y, np.log(sigmoide(X * theta.T)))\n",
        "    grad1 = np.multiply((1 - y), np.log(1 - sigmoide(X * theta.T)))\n",
        "    J = np.sum(grad0 - grad1) / (len(X))\n",
        "    return J\n"
      ],
      "execution_count": null,
      "outputs": []
    },
    {
      "cell_type": "markdown",
      "metadata": {
        "id": "eq6NlKDm-qZ_"
      },
      "source": [
        "Como já visto, a normalização de recursos faz-se necessária em problemas com multivariáveis na gradiente descendente, pois aceleram o processo de otimização."
      ]
    },
    {
      "cell_type": "code",
      "metadata": {
        "id": "cT_-Sdw0Yvhq"
      },
      "source": [
        "X3 = normalizar(X3)"
      ],
      "execution_count": null,
      "outputs": []
    },
    {
      "cell_type": "markdown",
      "metadata": {
        "id": "pHmewsZG-vAG"
      },
      "source": [
        ""
      ]
    },
    {
      "cell_type": "code",
      "metadata": {
        "id": "2Ko_SJbdeXFl"
      },
      "source": [
        "#X3 = np.c_[np.ones((X3.shape[0], 1)), X3]##"
      ],
      "execution_count": null,
      "outputs": []
    },
    {
      "cell_type": "markdown",
      "metadata": {
        "id": "TXwxxTUfv3oi"
      },
      "source": [
        "Função para normalização das características de X e y (Z-score)\n"
      ]
    },
    {
      "cell_type": "code",
      "metadata": {
        "id": "aBY9wtU7QumY"
      },
      "source": [
        "\n",
        "def normalizar_reglog(X, y):\n",
        "  mean_examData = np.mean(X, axis = 0)\n",
        "  std_examData = np.std(X, axis = 0)\n",
        "  X_norm = (X - mean_examData) / std_examData\n",
        "\n",
        "  mean_labels = np.mean(y, axis=0)\n",
        "  std_labels = np.std(y, axis = 0)\n",
        "  labels_norm = (y - mean_labels) / std_labels\n",
        "\n",
        "#Incluir o valor de 1 em X, já que theta0 = 1\n",
        "  examData_norm = np.c_[np.ones((X_norm.shape[0], 1)), X_norm]\n",
        "  return examData_norm, labels_norm, mean_examData, std_examData, mean_labels, std_labels\n"
      ],
      "execution_count": null,
      "outputs": []
    },
    {
      "cell_type": "code",
      "metadata": {
        "id": "TKGQwR3hOH1j"
      },
      "source": [
        "#X3 = f3.iloc[:, 0:-1].values##\n",
        "#y3 = f3.iloc[:, -1:].values##"
      ],
      "execution_count": null,
      "outputs": []
    },
    {
      "cell_type": "markdown",
      "metadata": {
        "id": "HvvCGS4D_iSv"
      },
      "source": [
        "Retorno com as dimensões de X3, theta, e y3.\n",
        "\n"
      ]
    },
    {
      "cell_type": "code",
      "metadata": {
        "colab": {
          "base_uri": "https://localhost:8080/"
        },
        "id": "_iERuCixNoAO",
        "outputId": "0b80ae95-dba2-4756-97d8-f9ce59b4c788"
      },
      "source": [
        "X3.shape, theta.shape, y3.shape"
      ],
      "execution_count": null,
      "outputs": [
        {
          "output_type": "execute_result",
          "data": {
            "text/plain": [
              "((100, 3), (1, 3), (100, 1))"
            ]
          },
          "metadata": {
            "tags": []
          },
          "execution_count": 81
        }
      ]
    },
    {
      "cell_type": "markdown",
      "metadata": {
        "id": "bbNauv1p24Ls"
      },
      "source": [
        "Implementando a normalização de X e y"
      ]
    },
    {
      "cell_type": "code",
      "metadata": {
        "id": "NCY9x2vR2-YA"
      },
      "source": [
        "#examData_norm, labels_norm, mean_examData, std_examData, mean_labels, std_labels = normalizar_reglog(X3,y3)#\n"
      ],
      "execution_count": null,
      "outputs": []
    },
    {
      "cell_type": "code",
      "metadata": {
        "colab": {
          "base_uri": "https://localhost:8080/"
        },
        "id": "AT4uzmTTJqvZ",
        "outputId": "b4f8ed99-7c6a-4f33-d92d-c57078cdead1"
      },
      "source": [
        "labels_norm.shape"
      ],
      "execution_count": null,
      "outputs": [
        {
          "output_type": "execute_result",
          "data": {
            "text/plain": [
              "(100, 1)"
            ]
          },
          "metadata": {
            "tags": []
          },
          "execution_count": 57
        }
      ]
    },
    {
      "cell_type": "code",
      "metadata": {
        "id": "jmnCh3jDWLG2"
      },
      "source": [
        "theta = np.array([0,0,0], ndmin=2)"
      ],
      "execution_count": null,
      "outputs": []
    },
    {
      "cell_type": "markdown",
      "metadata": {
        "id": "GgPAcgzA_4ng"
      },
      "source": [
        "Comprovação de valor produzido."
      ]
    },
    {
      "cell_type": "code",
      "metadata": {
        "colab": {
          "base_uri": "https://localhost:8080/"
        },
        "id": "PVsQ0M3PzpbM",
        "outputId": "a94a5de9-1f7e-4f16-c56c-62d267bad094"
      },
      "source": [
        "J = custo_reglog(theta, X3, y3)\n",
        "print(J)"
      ],
      "execution_count": null,
      "outputs": [
        {
          "output_type": "stream",
          "text": [
            "0.6931471805599453\n"
          ],
          "name": "stdout"
        }
      ]
    },
    {
      "cell_type": "code",
      "metadata": {
        "colab": {
          "base_uri": "https://localhost:8080/"
        },
        "id": "K4jiKuRsWc3A",
        "outputId": "bb582576-aeb3-41af-eef3-8f607184d9fc"
      },
      "source": [
        "J = custo_reglog(theta, X3, y3)\n",
        "print(J)"
      ],
      "execution_count": null,
      "outputs": [
        {
          "output_type": "stream",
          "text": [
            "0.6931471805599453\n"
          ],
          "name": "stdout"
        }
      ]
    },
    {
      "cell_type": "markdown",
      "metadata": {
        "id": "xVL0U49FYcq9"
      },
      "source": [
        "## 3.2.3 Aprendizado dos parâmetros\n"
      ]
    },
    {
      "cell_type": "markdown",
      "metadata": {
        "id": "tP_eqdqrABUz"
      },
      "source": [
        ""
      ]
    },
    {
      "cell_type": "markdown",
      "metadata": {
        "id": "hHgnvbmWArZK"
      },
      "source": [
        "Utiliza-se a função sigmoide para diferenciar a aplicação de caso de regressão logística."
      ]
    },
    {
      "cell_type": "code",
      "metadata": {
        "id": "-ayn3fqdaJ8W"
      },
      "source": [
        "def sigmoide(z):\n",
        "    return 1.0 / (1 + np.exp(-z))"
      ],
      "execution_count": null,
      "outputs": []
    },
    {
      "cell_type": "markdown",
      "metadata": {
        "id": "G-fiBLLPBJ3K"
      },
      "source": [
        "Aplica-se a função *gd_reglog*, uma vez que mais de uma variável será trabalhada."
      ]
    },
    {
      "cell_type": "code",
      "metadata": {
        "id": "iXAqoKGUYih5"
      },
      "source": [
        "def gd_reglog(theta, X, y):\n",
        "    theta = np.matrix(theta)\n",
        "    X = np.matrix(X)\n",
        "    y = np.matrix(y)\n",
        "\n",
        "    parametros = int(theta.ravel().shape[1])\n",
        "    grad = np.zeros(parametros)\n",
        "\n",
        "    erro = sigmoide(X * theta.T) - y\n",
        "\n",
        "    for i in range(parametros):\n",
        "        term = np.multiply(erro, X[:,i])\n",
        "        grad[i] = np.sum(term) / len(X)\n",
        "\n",
        "    return grad  \n",
        "    \n",
        "       \n"
      ],
      "execution_count": null,
      "outputs": []
    },
    {
      "cell_type": "markdown",
      "metadata": {
        "id": "lHdPHIaiBuab"
      },
      "source": [
        "A função *custo_reglog* é aplicada mais uma vez a fim de calcular o valor de J(Θ) e do gradiente, *i.e.*, da derivada parcial de J(Θ) em relação a cada Θ."
      ]
    },
    {
      "cell_type": "markdown",
      "metadata": {
        "id": "gD4_KLpSCD30"
      },
      "source": [
        "A função *fmin_tnc*, presente na biblioteca scipy.optimize, bem como a implmentação do gradiente descendente, são utilizados para encontrar o vetor de theta, minimizando a função de custo."
      ]
    },
    {
      "cell_type": "code",
      "metadata": {
        "id": "UcH8veWvhT7M"
      },
      "source": [
        "def custo_reglog(theta, X, y):\n",
        "    theta = np.matrix(theta)\n",
        "    X = np.matrix(X)\n",
        "    y = np.matrix(y)\n",
        "    grad0 = np.multiply(-y, np.log(sigmoide(X * theta.T)))\n",
        "    grad1 = np.multiply((1 - y), np.log(1 - sigmoide(X * theta.T)))\n",
        "    return np.sum(grad0 - grad1) / (len(X))"
      ],
      "execution_count": null,
      "outputs": []
    },
    {
      "cell_type": "code",
      "metadata": {
        "id": "bwNVx5vdfHA9"
      },
      "source": [
        "#theta = np.zeros((X3.shape[0], 1))"
      ],
      "execution_count": null,
      "outputs": []
    },
    {
      "cell_type": "markdown",
      "metadata": {
        "id": "NHckBWMFA78Y"
      },
      "source": [
        "É possível perceber que a queda é mais acentuada e o plateau da função de custo gira em torno das 150 iterações. Usando esses valores, o custo resultante é 0,20360044248226664. Uma melhoria significativa em relação aos 0,693147180559946 iniciais."
      ]
    },
    {
      "cell_type": "code",
      "metadata": {
        "colab": {
          "base_uri": "https://localhost:8080/"
        },
        "id": "QBZKxEFsZMxm",
        "outputId": "7e278e15-7ef4-4051-816c-0cfeab868dd7"
      },
      "source": [
        "import scipy.optimize as opt\n",
        "from scipy.optimize import minimize\n",
        "result = opt.fmin_tnc(func = custo_reglog, x0 = theta, fprime = gd_reglog, args = (X3, y3))\n",
        "custo_reglog(result[0], X3, y3)"
      ],
      "execution_count": null,
      "outputs": [
        {
          "output_type": "execute_result",
          "data": {
            "text/plain": [
              "0.20349771564631666"
            ]
          },
          "metadata": {
            "tags": []
          },
          "execution_count": 89
        }
      ]
    },
    {
      "cell_type": "markdown",
      "metadata": {
        "id": "weapkk4Nknej"
      },
      "source": [
        "## 3.2.4 Avaliação do Modelo\n"
      ]
    },
    {
      "cell_type": "markdown",
      "metadata": {
        "id": "M_nu4Dc5Do45"
      },
      "source": [
        "A função *def predizer* retorna uma matriz booleana com True (1) se a probabilidade de admissão na universidade for maior que 0,5 e False (0) para o caso contrário. "
      ]
    },
    {
      "cell_type": "code",
      "metadata": {
        "id": "IRfBlXajThB-"
      },
      "source": [
        "def predizer(theta, X):\n",
        "    probabilidade = sigmoide(np.mat(X) * np.mat(theta.T))\n",
        "    return [1 if x >= 0.5 else 0 for x in probabilidade]\n"
      ],
      "execution_count": null,
      "outputs": []
    },
    {
      "cell_type": "markdown",
      "metadata": {
        "id": "z4TNIRySD4hm"
      },
      "source": [
        "Chamando a função *predizer*."
      ]
    },
    {
      "cell_type": "code",
      "metadata": {
        "colab": {
          "base_uri": "https://localhost:8080/"
        },
        "id": "b_WZEN8GVrFG",
        "outputId": "82fe2d4e-07c3-4f74-b0a5-2c4f5183c518"
      },
      "source": [
        "predizer(theta, X3)\n",
        "\n"
      ],
      "execution_count": null,
      "outputs": [
        {
          "output_type": "execute_result",
          "data": {
            "text/plain": [
              "[1,\n",
              " 1,\n",
              " 1,\n",
              " 1,\n",
              " 1,\n",
              " 1,\n",
              " 1,\n",
              " 1,\n",
              " 1,\n",
              " 1,\n",
              " 1,\n",
              " 1,\n",
              " 1,\n",
              " 1,\n",
              " 1,\n",
              " 1,\n",
              " 1,\n",
              " 1,\n",
              " 1,\n",
              " 1,\n",
              " 1,\n",
              " 1,\n",
              " 1,\n",
              " 1,\n",
              " 1,\n",
              " 1,\n",
              " 1,\n",
              " 1,\n",
              " 1,\n",
              " 1,\n",
              " 1,\n",
              " 1,\n",
              " 1,\n",
              " 1,\n",
              " 1,\n",
              " 1,\n",
              " 1,\n",
              " 1,\n",
              " 1,\n",
              " 1,\n",
              " 1,\n",
              " 1,\n",
              " 1,\n",
              " 1,\n",
              " 1,\n",
              " 1,\n",
              " 1,\n",
              " 1,\n",
              " 1,\n",
              " 1,\n",
              " 1,\n",
              " 1,\n",
              " 1,\n",
              " 1,\n",
              " 1,\n",
              " 1,\n",
              " 1,\n",
              " 1,\n",
              " 1,\n",
              " 1,\n",
              " 1,\n",
              " 1,\n",
              " 1,\n",
              " 1,\n",
              " 1,\n",
              " 1,\n",
              " 1,\n",
              " 1,\n",
              " 1,\n",
              " 1,\n",
              " 1,\n",
              " 1,\n",
              " 1,\n",
              " 1,\n",
              " 1,\n",
              " 1,\n",
              " 1,\n",
              " 1,\n",
              " 1,\n",
              " 1,\n",
              " 1,\n",
              " 1,\n",
              " 1,\n",
              " 1,\n",
              " 1,\n",
              " 1,\n",
              " 1,\n",
              " 1,\n",
              " 1,\n",
              " 1,\n",
              " 1,\n",
              " 1,\n",
              " 1,\n",
              " 1,\n",
              " 1,\n",
              " 1,\n",
              " 1,\n",
              " 1,\n",
              " 1,\n",
              " 1]"
            ]
          },
          "metadata": {
            "tags": []
          },
          "execution_count": 120
        }
      ]
    },
    {
      "cell_type": "code",
      "metadata": {
        "id": "nZ0kv6ueUCtx"
      },
      "source": [
        "\n",
        "def acuracia(X, y, result):\n",
        "    theta_min = np.matrix(result[0])  \n",
        "    predicoes = predizer(theta_min, X)  \n",
        "    corretas = [1 if ((a == 1 and b == 1) or (a == 0 and b == 0)) else 0 for (a, b) in zip(predicoes, y)]  \n",
        "    return (sum(map(int, corretas)) % len(corretas))"
      ],
      "execution_count": null,
      "outputs": []
    },
    {
      "cell_type": "markdown",
      "metadata": {
        "id": "JZlFNpDFDTUJ"
      },
      "source": [
        "Os valores abaixo não foram dados em porcentagem, porém, é possível inferir que a acurácia é de 89%.  Indica, ainda que o classificador prevê 89% do conjunto de treinamento previsto corretamente.\n"
      ]
    },
    {
      "cell_type": "code",
      "metadata": {
        "colab": {
          "base_uri": "https://localhost:8080/"
        },
        "id": "3VvhvpR44Z4X",
        "outputId": "c68652d8-52ca-455b-bc89-aefb2d8a5c22"
      },
      "source": [
        "acuracia(X3,y3,result)\n",
        "\n"
      ],
      "execution_count": null,
      "outputs": [
        {
          "output_type": "execute_result",
          "data": {
            "text/plain": [
              "89"
            ]
          },
          "metadata": {
            "tags": []
          },
          "execution_count": 130
        }
      ]
    },
    {
      "cell_type": "markdown",
      "metadata": {
        "id": "E3SF5hT_g8J7"
      },
      "source": [
        "# 4. Regressão Logística com Regularização"
      ]
    },
    {
      "cell_type": "markdown",
      "metadata": {
        "id": "wRKk1d0QFMV6"
      },
      "source": [
        "Regularização é o uso da regressão logística com a inserção de *bias* em um modelo. Resumidamente, *bias* é uma métrica de erro no modelo e seu bom balanceamento ajuda na obtenção de alta acurácia preditiva. Quando alta, *bias* indica que o modelo não se ajusta integralmente aos dados de treino, causando um fenômeno denominado *underfitting*, ou seja, tem alto *Erro Quadrático Médio*.\n",
        "\n",
        "Desta forma, poderia-se dizer que a regularização desencoraja o ajuste excessivo dos dados, visando diminuir sua variância. Dentro da regressão linear, Ridge e Lasso são formas de regularizar a função com penalidades. \n",
        "\n"
      ]
    },
    {
      "cell_type": "markdown",
      "metadata": {
        "id": "iVokH8TBkVIh"
      },
      "source": [
        "Importando e visualizando os dados."
      ]
    },
    {
      "cell_type": "code",
      "metadata": {
        "colab": {
          "base_uri": "https://localhost:8080/",
          "height": 191
        },
        "id": "-JTacAuQjO_B",
        "outputId": "030e24b0-8d68-4176-f2e5-ab264d402760"
      },
      "source": [
        "f4 = pd.read_csv(\"ex2data2.txt\", header=None, names=[\"Teste 1\", \"Teste 2\", \"Aceito\"])\n",
        "f4.head()"
      ],
      "execution_count": null,
      "outputs": [
        {
          "output_type": "execute_result",
          "data": {
            "text/html": [
              "<div>\n",
              "<style scoped>\n",
              "    .dataframe tbody tr th:only-of-type {\n",
              "        vertical-align: middle;\n",
              "    }\n",
              "\n",
              "    .dataframe tbody tr th {\n",
              "        vertical-align: top;\n",
              "    }\n",
              "\n",
              "    .dataframe thead th {\n",
              "        text-align: right;\n",
              "    }\n",
              "</style>\n",
              "<table border=\"1\" class=\"dataframe\">\n",
              "  <thead>\n",
              "    <tr style=\"text-align: right;\">\n",
              "      <th></th>\n",
              "      <th>Teste 1</th>\n",
              "      <th>Teste 2</th>\n",
              "      <th>Aceito</th>\n",
              "    </tr>\n",
              "  </thead>\n",
              "  <tbody>\n",
              "    <tr>\n",
              "      <th>0</th>\n",
              "      <td>0.051267</td>\n",
              "      <td>0.69956</td>\n",
              "      <td>1</td>\n",
              "    </tr>\n",
              "    <tr>\n",
              "      <th>1</th>\n",
              "      <td>-0.092742</td>\n",
              "      <td>0.68494</td>\n",
              "      <td>1</td>\n",
              "    </tr>\n",
              "    <tr>\n",
              "      <th>2</th>\n",
              "      <td>-0.213710</td>\n",
              "      <td>0.69225</td>\n",
              "      <td>1</td>\n",
              "    </tr>\n",
              "    <tr>\n",
              "      <th>3</th>\n",
              "      <td>-0.375000</td>\n",
              "      <td>0.50219</td>\n",
              "      <td>1</td>\n",
              "    </tr>\n",
              "    <tr>\n",
              "      <th>4</th>\n",
              "      <td>-0.513250</td>\n",
              "      <td>0.46564</td>\n",
              "      <td>1</td>\n",
              "    </tr>\n",
              "  </tbody>\n",
              "</table>\n",
              "</div>"
            ],
            "text/plain": [
              "    Teste 1  Teste 2  Aceito\n",
              "0  0.051267  0.69956       1\n",
              "1 -0.092742  0.68494       1\n",
              "2 -0.213710  0.69225       1\n",
              "3 -0.375000  0.50219       1\n",
              "4 -0.513250  0.46564       1"
            ]
          },
          "metadata": {
            "tags": []
          },
          "execution_count": 5
        }
      ]
    },
    {
      "cell_type": "code",
      "metadata": {
        "id": "o_i_MODCk_Cu"
      },
      "source": [
        "X4, y4 = importarDados(filepath=\"/ex2data2.txt\", names=[\"Teste 1\", \"Teste 2\", \"Aceito\"])"
      ],
      "execution_count": null,
      "outputs": []
    },
    {
      "cell_type": "markdown",
      "metadata": {
        "id": "76ulBSeGHEDs"
      },
      "source": [
        "Função para visualização do gráfico de dispersão. Nela são definidos os *labels* (legendas, marcadores de demais identificadores) presentes no gráfico que auxiliam na interpretação das informações *plotadas*."
      ]
    },
    {
      "cell_type": "code",
      "metadata": {
        "id": "jnXujeqFkFo4"
      },
      "source": [
        "def plot4(data, filename = 'target/plot4.1.png'):\n",
        "    # gerando o grafico de dispersao para analise preliminar dos dados\n",
        "    positivo = data[data[\"Aceito\"].isin([1])]\n",
        "    negativo = data[data[\"Aceito\"].isin([0])]\n",
        "\n",
        "#Definição de rótulos\n",
        "    fig, ax = plt.subplots(figsize=(12,8))\n",
        "    ax.scatter(positivo[\"Teste 1\"], positivo[\"Teste 2\"], s=50, c='k', marker='+', label=\"Aceito\")\n",
        "    ax.scatter(negativo[\"Teste 1\"], negativo[\"Teste 2\"], s=50, c='y', marker='o', label=\"Nao Aceito\")\n",
        "    ax.legend()\n",
        "    ax.set_xlabel(\"Microchip 1\")\n",
        "    ax.set_ylabel(\"Microchip 2\")\n",
        "\n",
        "    if not os.path.exists(os.path.dirname(filename)):\n",
        "        os.makedirs(os.path.dirname(filename))\n",
        "\n",
        "    plt.savefig(filename)\n",
        "    plt.show()\n",
        "   "
      ],
      "execution_count": null,
      "outputs": []
    },
    {
      "cell_type": "markdown",
      "metadata": {
        "id": "pWrs6wgKHWh1"
      },
      "source": [
        "Chama a função *plot* para visualização do gráfico de dispersão."
      ]
    },
    {
      "cell_type": "code",
      "metadata": {
        "colab": {
          "base_uri": "https://localhost:8080/",
          "height": 497
        },
        "id": "LXdi4x2wkttj",
        "outputId": "ea243cd5-42e2-40ea-8ea3-69bd05b8a545"
      },
      "source": [
        " plot4(f4)"
      ],
      "execution_count": null,
      "outputs": [
        {
          "output_type": "display_data",
          "data": {
            "image/png": "[encoded data removed]",
            "text/plain": [
              "<Figure size 864x576 with 1 Axes>"
            ]
          },
          "metadata": {
            "tags": [],
            "needs_background": "light"
          }
        }
      ]
    },
    {
      "cell_type": "markdown",
      "metadata": {
        "id": "jbDTV5SqHnLB"
      },
      "source": [
        "### 4.2 Mapeamento de Características (*feature mapping*)\n",
        "\n",
        "\n",
        "\n"
      ]
    },
    {
      "cell_type": "markdown",
      "metadata": {
        "id": "3PB9Dc4QFvfW"
      },
      "source": [
        "Atualmente, com a quantidade de dados sendo trabalhados em diversos projetos, o tempo de processamento e quantidade de dados irrelevantes visualizados se tornam um problema na hora de tomar decisões rápidas e apropriadas baseadas em imagens e gráficos. Assim, quanto mais rápido uma informação for visualizada, mais rápida será a inferência necessária para a tomada de decisões. \n",
        "\n",
        "O *feature mapping* é um processo de representação de *feature* que ressalta sua relevância no gráfico. Desta forma, as *features* são visualizadas e suas informações correspondentes ficam facilmente visíveis em imagem. A função *feature mapping* auxilia criando mais características aos dados já existente (X1 e X2), ressaltando-os e tornando-os mais apropriados para a classificação. \n",
        "\n"
      ]
    },
    {
      "cell_type": "code",
      "metadata": {
        "id": "KWX9X5miQ6yv"
      },
      "source": [
        "def mapFeature(x1, x2, degree=6):\n",
        "\n",
        "    if x1.ndim > 0:\n",
        "        out = [np.ones(x1.shape[0])]\n",
        "    else:\n",
        "        out = [np.ones(1)]\n",
        "\n",
        "    for i in range(1, degree + 1):\n",
        "        for j in range(i + 1):\n",
        "            out.append((x1 ** (i - j)) * (x2 ** j))\n",
        "\n",
        "    if x1.ndim > 0:\n",
        "        return np.stack(out, axis=1)\n",
        "    else:\n",
        "        return np.array(out)"
      ],
      "execution_count": null,
      "outputs": []
    },
    {
      "cell_type": "markdown",
      "metadata": {
        "id": "vVa6HX14JgCc"
      },
      "source": [
        "Abaixo, a função *map feature* é chamada a fim de mapear duas *features* diferentes e aplicando um grau polinomial e retonando os vetores polinomiais de X1 e X2.\n",
        "\n",
        "O resultado é um vetor com 28 colunas e 118 linhas, conforme visto na saída por meio da função *print*."
      ]
    },
    {
      "cell_type": "code",
      "metadata": {
        "colab": {
          "base_uri": "https://localhost:8080/"
        },
        "id": "2H8R4ESYgi_J",
        "outputId": "1a9e34b3-ac40-4680-8f4b-67a26e26fa71"
      },
      "source": [
        "\n",
        "\n",
        "feature_1 = np.array(X4[:,0])\n",
        "feature_2 = np.array(X4[:,1])\n",
        "\n",
        "X = mapFeature(feature_1, feature_2)\n",
        "\n",
        "print(X.shape)"
      ],
      "execution_count": null,
      "outputs": [
        {
          "output_type": "stream",
          "text": [
            "(118, 28)\n"
          ],
          "name": "stdout"
        }
      ]
    },
    {
      "cell_type": "code",
      "metadata": {
        "colab": {
          "base_uri": "https://localhost:8080/"
        },
        "id": "GVl81tIthLYs",
        "outputId": "d6a004eb-7be1-427d-d1b6-0531a0a110d2"
      },
      "source": [
        "X4 = mapFeature(feature_1, feature_2)\n",
        "print(X4.shape)\n",
        "\n"
      ],
      "execution_count": null,
      "outputs": [
        {
          "output_type": "stream",
          "text": [
            "(118, 28)\n"
          ],
          "name": "stdout"
        }
      ]
    },
    {
      "cell_type": "markdown",
      "metadata": {
        "id": "z7YBpmIkLJ6p"
      },
      "source": [
        "## 4.3 Função de Custo Gradiente"
      ]
    },
    {
      "cell_type": "markdown",
      "metadata": {
        "id": "iPc1KBRCLjk0"
      },
      "source": [
        "A função de custo gradiente aplicada a fim de calcular a função de custo e o gradiente. Ela auxilia a estimar a da probabilidade de ocorrência de determinado evento (J3) dentro de um conjunto de variáveis exploratórias (Vetor de parâmetros) "
      ]
    },
    {
      "cell_type": "code",
      "metadata": {
        "id": "UEdnirNASdyw"
      },
      "source": [
        "def custo_reglog_reg(theta, X, y, _lambda):\n",
        "    m = len(X)\n",
        "    theta = np.matrix(theta)\n",
        "    X = np.matrix(X)\n",
        "    y = np.matrix(y)\n",
        "    \n",
        "    grad0 = np.multiply(-y, np.log(sigmoide(X * theta.T)))\n",
        "    grad1 = np.multiply((1 - y), np.log(1 - sigmoide(X * theta.T)))\n",
        "    \n",
        "    # não considera theta0 para o cálculo\n",
        "    theta_j = theta[:,1:]\n",
        "    regularizacao = (_lambda / (2 * m)) * np.sum(np.dot(theta_j.T,theta_j))     \n",
        "    return np.sum((grad0 - grad1) / m) + regularizacao\n",
        "\n",
        "def gd_reglog_reg(theta, X, y, _lambda):\n",
        "    m = len(X)\n",
        "    theta = np.matrix(theta)\n",
        "    X = np.matrix(X)\n",
        "    y = np.matrix(y)\n",
        "\n",
        "    parametros = int(theta.ravel().shape[1])\n",
        "    grad = np.zeros(parametros)\n",
        "\n",
        "    erro = sigmoide(X * theta.T) - y\n",
        "\n",
        "    for i in range(parametros):\n",
        "        term = np.multiply(erro, X[:,i])\n",
        "        if (i != 0):\n",
        "            regularizacao = ((_lambda / m) * theta[:,i])\n",
        "            grad[i] = (np.sum(term) / m) + regularizacao\n",
        "        else:\n",
        "            grad[i] = np.sum(term) / m \n",
        "\n",
        "    return grad"
      ],
      "execution_count": null,
      "outputs": []
    },
    {
      "cell_type": "markdown",
      "metadata": {
        "id": "yvwcKWxJMhO-"
      },
      "source": [
        "Teste de função *custo_reglog_reg* com λ = 1 "
      ]
    },
    {
      "cell_type": "code",
      "metadata": {
        "colab": {
          "base_uri": "https://localhost:8080/"
        },
        "id": "7IgqoXldinz4",
        "outputId": "5a64d7b4-fd53-488d-9c04-db718fded1fd"
      },
      "source": [
        "_lambda = 1\n",
        "theta = np.zeros((X4.shape[1])) #inicialização\n",
        "J2 = custo_reglog_reg(theta, X4, y4, _lambda)\n",
        "print('Custo = ', J2)"
      ],
      "execution_count": null,
      "outputs": [
        {
          "output_type": "stream",
          "text": [
            "Custo =  0.6931471805599451\n"
          ],
          "name": "stdout"
        }
      ]
    },
    {
      "cell_type": "markdown",
      "metadata": {
        "id": "h8Tmii8_i9dc"
      },
      "source": [
        "\n",
        "Para $\\lambda$ = 0 (sem regularização)"
      ]
    },
    {
      "cell_type": "markdown",
      "metadata": {
        "id": "DjOF6yF_Ndup"
      },
      "source": [
        "Apenas separando a função do gradiente\n"
      ]
    },
    {
      "cell_type": "code",
      "metadata": {
        "id": "pBWl4r3GjjyU"
      },
      "source": [
        "def gd_reglog_reg(theta, X, y, _lambda):\n",
        "    m = len(X)\n",
        "    theta = np.matrix(theta)\n",
        "    X = np.matrix(X)\n",
        "    y = np.matrix(y)\n",
        "\n",
        "    parametros = int(theta.ravel().shape[1])\n",
        "    grad = np.zeros(parametros)\n",
        "\n",
        "    erro = sigmoide(X * theta.T) - y\n",
        "\n",
        "    for i in range(parametros):\n",
        "        term = np.multiply(erro, X[:,i])\n",
        "        if (i != 0):\n",
        "            regularizacao = ((_lambda / m) * theta[:,i])\n",
        "            grad[i] = (np.sum(term) / m) + regularizacao\n",
        "        else:\n",
        "            grad[i] = np.sum(term) / m \n",
        "\n",
        "    return grad"
      ],
      "execution_count": null,
      "outputs": []
    },
    {
      "cell_type": "markdown",
      "metadata": {
        "id": "ZfXBuTxhNPuM"
      },
      "source": [
        "Teste de corretude inicial da função *custo_reglog_reg* com λ = 0"
      ]
    },
    {
      "cell_type": "code",
      "metadata": {
        "colab": {
          "base_uri": "https://localhost:8080/"
        },
        "id": "t2g-z04fi5mS",
        "outputId": "741dc697-5b42-4258-846c-185b5d76777d"
      },
      "source": [
        "_lambda = 0\n",
        "theta = np.zeros((X4.shape[1])) #inicialização\n",
        "result = opt.fmin_tnc(func=custo_reglog_reg, x0=theta, fprime=gd_reglog_reg, args=(X4, y4, _lambda))\n",
        "theta = result[0]\n",
        "J3 = custo_reglog_reg(theta, X4, y4, _lambda)\n",
        "\n",
        "print('Vetor de parâmetros = ', theta)\n",
        "print('\\nCusto = ', J3)"
      ],
      "execution_count": null,
      "outputs": [
        {
          "output_type": "stream",
          "text": [
            "Vetor de parâmetros =  [   12.77908481    16.49992762     7.36168342  -140.0689641\n",
            "   -82.626573     -47.32272413  -134.29479797  -113.6610402\n",
            "   -56.14324677    -4.10861092   510.70466523   507.56922885\n",
            "   566.66305886   258.98915504    56.95402121   247.5193485\n",
            "   350.83103498   371.75202507   194.13604466    69.46621389\n",
            "    15.14801323  -600.92424344  -821.86040683 -1106.80924821\n",
            "  -848.64036255  -706.48745788  -292.82673998   -50.26186711]\n",
            "\n",
            "Custo =  0.25308573494688313\n"
          ],
          "name": "stdout"
        }
      ]
    },
    {
      "cell_type": "markdown",
      "metadata": {
        "id": "dXHllyKlhd-T"
      },
      "source": [
        "Para $\\lambda$ = 100"
      ]
    },
    {
      "cell_type": "markdown",
      "metadata": {
        "id": "Ew4mAJV2NXc1"
      },
      "source": [
        "Teste de função *custo_reglog_reg* com λ = 100"
      ]
    },
    {
      "cell_type": "code",
      "metadata": {
        "colab": {
          "base_uri": "https://localhost:8080/"
        },
        "id": "tnQzsAtGhe1t",
        "outputId": "24c27f44-cd4d-4690-8bbe-8cabc9b4c7c5"
      },
      "source": [
        "_lambda = 100\n",
        "theta = np.zeros((X4.shape[1])) #inicialização\n",
        "result = opt.fmin_tnc(func=custo_reglog_reg, x0=theta, fprime=gd_reglog_reg, args=(X4, y4, _lambda))\n",
        "theta = result[0]\n",
        "J4 = custo_reglog_reg(theta, X4, y4, _lambda)\n",
        "\n",
        "print('Vetor de parâmetros = ', theta)\n",
        "print('\\nCusto = ', J4)"
      ],
      "execution_count": null,
      "outputs": [
        {
          "output_type": "stream",
          "text": [
            "Vetor de parâmetros =  [ 2.87015383e-04 -2.10544242e-03  1.22391072e-03 -6.79678110e-03\n",
            " -1.74408066e-03 -4.46041042e-03 -2.26497645e-03 -9.37866502e-04\n",
            " -1.13248462e-03 -2.62435498e-03 -5.46183984e-03 -3.06831194e-04\n",
            " -1.75796213e-03 -4.68279970e-04 -5.03984839e-03 -2.62545344e-03\n",
            " -5.89312935e-04 -4.48411790e-04 -7.84188445e-04 -6.48156747e-04\n",
            " -3.88185402e-03 -4.31900558e-03 -1.35539797e-04 -8.84096665e-04\n",
            " -4.96564783e-05 -9.97763028e-04 -2.09723993e-04 -5.06602296e-03]\n",
            "\n",
            "Custo =  0.6927650676796886\n"
          ],
          "name": "stdout"
        }
      ]
    },
    {
      "cell_type": "markdown",
      "metadata": {
        "id": "dG39BH2ljr8K"
      },
      "source": [
        "Para $\\lambda$ = 1"
      ]
    },
    {
      "cell_type": "code",
      "metadata": {
        "colab": {
          "base_uri": "https://localhost:8080/"
        },
        "id": "afuGOUxojtEJ",
        "outputId": "3459c03c-4f5e-4fb0-d08d-8169f60be52c"
      },
      "source": [
        "_lambda = 1\n",
        "theta = np.zeros((X4.shape[1])) #inicialização\n",
        "result = opt.fmin_tnc(func=custo_reglog_reg, x0=theta, fprime=gd_reglog_reg, args=(X4, y4, _lambda))\n",
        "theta = result[0]\n",
        "J4 = custo_reglog_reg(theta, X4, y4, _lambda)\n",
        "\n",
        "print('Vetor de parâmetros = ', theta)\n",
        "print('\\nCusto = ', J4)"
      ],
      "execution_count": null,
      "outputs": [
        {
          "output_type": "stream",
          "text": [
            "Vetor de parâmetros =  [ 0.51126521  0.28141979  0.56732707 -0.89264983 -0.33269562 -0.50931638\n",
            "  0.06978521 -0.14679472 -0.15051146 -0.04162217 -0.63602971 -0.03068704\n",
            " -0.26998237 -0.08940903 -0.47099374 -0.07027425 -0.08868329 -0.0384868\n",
            " -0.11459476 -0.10674824 -0.18602658 -0.43208855  0.00445043 -0.13397984\n",
            " -0.00181124 -0.14157615 -0.03660799 -0.37996296]\n",
            "\n",
            "Custo =  0.651887301156613\n"
          ],
          "name": "stdout"
        }
      ]
    },
    {
      "cell_type": "markdown",
      "metadata": {
        "id": "hWU3ziOLNvsI"
      },
      "source": [
        "## 4.4 Esboço da fronteira de decisão"
      ]
    },
    {
      "cell_type": "markdown",
      "metadata": {
        "id": "nUS24TyHON6t"
      },
      "source": [
        "*%matplotlib inline* executa uma configuração necessária para que o IPython funcione corretamente com matplotlib. Não há uma nova importação."
      ]
    },
    {
      "cell_type": "code",
      "metadata": {
        "id": "zJ-cWz9WmyKw"
      },
      "source": [
        "%matplotlib inline"
      ],
      "execution_count": null,
      "outputs": []
    },
    {
      "cell_type": "markdown",
      "metadata": {
        "id": "Zi_ZcAjfOZ-u"
      },
      "source": [
        "A função *plot_microship_data* gera o gráfico de dispersão com os rótulos adequados, conforme já visto em exemplos semelhantes anterioemente."
      ]
    },
    {
      "cell_type": "code",
      "metadata": {
        "id": "ZvfSCYfopPFx"
      },
      "source": [
        "def plot_microship_data(data, filename = 'target/plot4.1.png'):\n",
        "  # Gera o gráfico de dispersão para análise preliminar dos dados\n",
        "  positivo = data[data['Aceito'].isin([1])]  \n",
        "  negativo = data[data['Aceito'].isin([0])]\n",
        "  \n",
        "  fig, ax = plt.subplots(figsize=(12,8))\n",
        "  ax.scatter(positivo[\"Teste 1\"], positivo[\"Teste 2\"], s=50, c='k', marker='+', label=\"Aceito\")\n",
        "  ax.scatter(negativo[\"Teste 1\"], negativo[\"Teste 2\"], s=50, c='y', marker='o', label=\"Nao Aceito\")\n",
        "  ax.legend()\n",
        "  ax.set_xlabel(\"Microchip 1\")\n",
        "  ax.set_ylabel(\"Microchip 2\")\n",
        "  \n",
        "  if not os.path.exists(os.path.dirname(filename)):\n",
        "    os.makedirs(os.path.dirname(filename))\n",
        "    \n",
        "    plt.savefig(filename)\n",
        "    plt.show()\n",
        "\n",
        "\n"
      ],
      "execution_count": null,
      "outputs": []
    },
    {
      "cell_type": "code",
      "metadata": {
        "id": "2wqt2nMDhPSA"
      },
      "source": [
        "theta = np.array(theta)"
      ],
      "execution_count": null,
      "outputs": []
    },
    {
      "cell_type": "markdown",
      "metadata": {
        "id": "GT9M9SHmPPie"
      },
      "source": [
        "\n",
        "A função *plotDecisionBoundary4* irá desenhar a fronteira de decisão do gráfico que será gerado mais abaixo.\n"
      ]
    },
    {
      "cell_type": "code",
      "metadata": {
        "id": "uXZL5IuhlG1o"
      },
      "source": [
        "def plotDecisionBoundary4(data, filename = 'target/plot4.1.png'):\n",
        " \n",
        "    if X.shape[1] <= 3:\n",
        "        plot_x = np.array([np.min(X[:, 1]) - 2, np.max(X[:, 1]) + 2])\n",
        "\n",
        "        #calcular fronteira de decisão\n",
        "        plot_y = (-1. / theta[2]) * (theta[1] * plot_x + theta[0])\n",
        "\n",
        "        #ajuste \n",
        "        plt.plot(plot_x, plot_y)\n",
        "\n",
        "        #legendas\n",
        "        plt.legend(['Admitido', 'Não admitido', 'Fronteira de decisão'])\n",
        "        plt.xlim([30, 100])\n",
        "        plt.ylim([30, 100])\n",
        "    else:\n",
        "        #alcance do grid\n",
        "        u = np.linspace(-1, 1.5, 50)\n",
        "        v = np.linspace(-0.8, 1.2, 50)\n",
        "\n",
        "        z = np.zeros((u.size, v.size))\n",
        "        \n",
        "        for i, ui in enumerate(u):\n",
        "            for j, vj in enumerate(v):\n",
        "                z[i, j] = np.dot(mapFeature(ui, vj), theta)\n",
        "\n",
        "        z = z.T  \n",
        "        \n",
        "        plt.contour(u, v, z, levels=[0], linewidths=2, colors='g')\n",
        "        plt.contourf(u, v, z, levels=[np.min(z), 0, np.max(z)], cmap='Greens', alpha=0.4)\n"
      ],
      "execution_count": null,
      "outputs": []
    },
    {
      "cell_type": "markdown",
      "metadata": {
        "id": "LmUCcvgFPrV6"
      },
      "source": [
        "A seguir a plotagem das informações com os diversos dados representados pelos pontos. A fronteira de decisão gerada pela função *plotDecisionBoundary4* é traçada no círculo em verde escuro.\n"
      ]
    },
    {
      "cell_type": "code",
      "metadata": {
        "colab": {
          "base_uri": "https://localhost:8080/",
          "height": 581
        },
        "id": "qSIPUqWVqmsw",
        "outputId": "12c383c9-2056-480d-8d97-7940f92de47a"
      },
      "source": [
        "plot_microship_data(f4)\n",
        "plotDecisionBoundary4(f4)\n",
        "plt.xlabel('Microship teste 1')\n",
        "plt.ylabel('Microship teste 2')\n",
        "plt.legend(['y = 1', 'y = 0'])\n",
        "plt.grid(False)\n",
        "plt.title('lambda = %0.2f' % _lambda)"
      ],
      "execution_count": null,
      "outputs": [
        {
          "output_type": "stream",
          "text": [
            "/usr/local/lib/python3.7/dist-packages/ipykernel_launcher.py:15: VisibleDeprecationWarning: Creating an ndarray from ragged nested sequences (which is a list-or-tuple of lists-or-tuples-or ndarrays with different lengths or shapes) is deprecated. If you meant to do this, you must specify 'dtype=object' when creating the ndarray\n",
            "  from ipykernel import kernelapp as app\n"
          ],
          "name": "stderr"
        },
        {
          "output_type": "execute_result",
          "data": {
            "text/plain": [
              "Text(0.5, 1.0, 'lambda = 1.00')"
            ]
          },
          "metadata": {
            "tags": []
          },
          "execution_count": 79
        },
        {
          "output_type": "display_data",
          "data": {
            "image/png": "[encoded data removed]",
            "text/plain": [
              "<Figure size 864x576 with 1 Axes>"
            ]
          },
          "metadata": {
            "tags": [],
            "needs_background": "light"
          }
        }
      ]
    },
    {
      "cell_type": "markdown",
      "metadata": {
        "id": "EgQEeTg7QE0_"
      },
      "source": [
        "# 5. Regressão Linear com Regularização"
      ]
    },
    {
      "cell_type": "markdown",
      "metadata": {
        "id": "6HgaPFgDQPY8"
      },
      "source": [
        "Importação de dados dentro de arquivo .mat. \n"
      ]
    },
    {
      "cell_type": "code",
      "metadata": {
        "id": "QU0jYz-xq7qz"
      },
      "source": [
        "filepath = 'https://github.com/MLRG-CEFET-RJ/ml-class/blob/master/ml-t1/data/ex5data1.mat?raw=true'\n",
        "r = requests.get(filepath, allow_redirects=True)\n",
        "open('ex5data1.mat', 'wb').write(r.content)\n",
        "\n",
        "data = scipy.io.loadmat('ex5data1.mat')\n",
        "\n",
        "_X, y = data['X'], data['y'] # conjunto de treinamento\n",
        "_Xval, yval = data['Xval'], data['yval'] # conjunto de validação\n",
        "_Xtest, ytest = data['Xtest'], data['ytest'] # conjunto de teste"
      ],
      "execution_count": null,
      "outputs": []
    },
    {
      "cell_type": "markdown",
      "metadata": {
        "id": "-ZhFPM2rQbgc"
      },
      "source": [
        "### 5.1 Visualização dos Dados¶"
      ]
    },
    {
      "cell_type": "markdown",
      "metadata": {
        "id": "syBLi_iMS1iq"
      },
      "source": [
        "Função para a plotagem dos dados. Inclui os rótulos dos eixos X e Y"
      ]
    },
    {
      "cell_type": "code",
      "metadata": {
        "id": "U37yiDSAksmq"
      },
      "source": [
        "def plot_ex5data1(X, y):\n",
        "    plt.figure(figsize=(8,5))\n",
        "    plt.xlabel('Mudança no nível da água (x)')\n",
        "    plt.ylabel('Água saindo da barragem (y)')\n",
        "    plt.plot(X,y,'rx')"
      ],
      "execution_count": null,
      "outputs": []
    },
    {
      "cell_type": "code",
      "metadata": {
        "colab": {
          "base_uri": "https://localhost:8080/",
          "height": 333
        },
        "id": "NwddGEsBzXwo",
        "outputId": "319227ee-5f37-4a1f-b506-1da03d00247d"
      },
      "source": [
        "plot_ex5data1(_X, y)"
      ],
      "execution_count": null,
      "outputs": [
        {
          "output_type": "display_data",
          "data": {
            "image/png": "[encoded data removed]",
            "text/plain": [
              "<Figure size 576x360 with 1 Axes>"
            ]
          },
          "metadata": {
            "tags": [],
            "needs_background": "light"
          }
        }
      ]
    },
    {
      "cell_type": "code",
      "metadata": {
        "id": "0bm5AxKgiboL"
      },
      "source": [
        "X = np.insert(_X, 0, 1, axis=1)\n",
        "Xval = np.insert(_Xval , 0, 1, axis=1)\n",
        "Xtest = np.insert(_Xtest, 0, 1, axis=1)"
      ],
      "execution_count": null,
      "outputs": []
    },
    {
      "cell_type": "markdown",
      "metadata": {
        "id": "F6Zow467eORa"
      },
      "source": [
        "### 5.2 Função de custo da regressão linear regularizada."
      ]
    },
    {
      "cell_type": "markdown",
      "metadata": {
        "id": "wrM2g6fCzoIr"
      },
      "source": [
        "A função abaixo é matematicamente representada pela equação:\n",
        "\n",
        "\n",
        "![função.PNG](data:image/png;base64,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)\n",
        "\n",
        "Com ela, é possível implmentar a função de custo da regressão linear regularizada $J(\\theta)$, que torna $\\lambda$ um hiperparâmetro moderador do grau de regularização de J. "
      ]
    },
    {
      "cell_type": "code",
      "metadata": {
        "id": "9YcotVKwzyZt"
      },
      "source": [
        "def custo_reglin_regularizada(theta, X, y, _lambda):\n",
        "    # Quantidade de exemplos\n",
        "    m = len(X)\n",
        "    theta = np.matrix(theta)\n",
        "\n",
        "    # não considera theta0 para o cálculo\n",
        "    theta_j = theta[:,1:]\n",
        "    regularizacao = (_lambda /(2 * m)) * np.sum(theta_j.dot(theta_j.T))    \n",
        "\n",
        "    erro = X.dot(theta.T) - y\n",
        "\n",
        "    # Computa a função de custo J\n",
        "    J = (np.sum(np.power(erro, 2)))/ (2 * m) \n",
        "    \n",
        "    return J + regularizacao"
      ],
      "execution_count": null,
      "outputs": []
    },
    {
      "cell_type": "code",
      "metadata": {
        "colab": {
          "base_uri": "https://localhost:8080/"
        },
        "id": "lmlpTxtzzwVd",
        "outputId": "254c414e-609f-4c88-a3ba-92cf0e177fae"
      },
      "source": [
        "\n",
        "\n",
        "_lambda = 1\n",
        "theta = np.array([[1,1]]) #inicialização\n",
        "J = custo_reglin_regularizada(theta, X, y, _lambda)\n",
        "print('Custo = ', J)"
      ],
      "execution_count": null,
      "outputs": [
        {
          "output_type": "stream",
          "text": [
            "Custo =  303.9931922202643\n"
          ],
          "name": "stdout"
        }
      ]
    },
    {
      "cell_type": "markdown",
      "metadata": {
        "id": "HAYh1LiXZz3b"
      },
      "source": [
        "### 5.3 Gradiente na regressão linear regularizada"
      ]
    },
    {
      "cell_type": "markdown",
      "metadata": {
        "id": "lY1F0SAxZ4z2"
      },
      "source": [
        "A função abaixo realiza a regularização do gradiente descendente da função linear. Os comandos serão aplicados no mesmo *dataframe* utilizado, porém com  $\\theta$ = (1,1) e $\\lambda=1$.\n"
      ]
    },
    {
      "cell_type": "code",
      "metadata": {
        "id": "iQGh3ERu0D8v"
      },
      "source": [
        "def gd_reglin_regularizada(theta, X, y, _lambda):\n",
        "    m = len(X)\n",
        "    theta = np.matrix(theta)\n",
        "    X = np.matrix(X)\n",
        "    y = np.matrix(y)\n",
        "\n",
        "    erro = (X.dot(theta.T)) - y\n",
        "    \n",
        "    gradient = X.T.dot(erro) / m\n",
        "\n",
        "    theta_j = theta[:,1:]\n",
        "    regularizacao = (_lambda / m) * theta_j\n",
        "    # insere zero como termo de regularização para theta0\n",
        "    regularizacao = np.insert(regularizacao, 0, 0, axis=1)\n",
        "\n",
        "    return gradient + regularizacao.T"
      ],
      "execution_count": null,
      "outputs": []
    },
    {
      "cell_type": "markdown",
      "metadata": {
        "id": "Ax_fdlR1bMWQ"
      },
      "source": [
        "Retorno do vetor gradiente e teste de corretude com  θ =(1,1)"
      ]
    },
    {
      "cell_type": "code",
      "metadata": {
        "colab": {
          "base_uri": "https://localhost:8080/"
        },
        "id": "1asar945iWDV",
        "outputId": "6efdca16-1252-49f0-c58e-0f3650588c0d"
      },
      "source": [
        "theta = np.array([[1,1]]) #inicialização\n",
        "gradiente = gd_reglin_regularizada(theta, X, y, _lambda=1)\n",
        "\n",
        "print('Gradiente\\n', gradiente)"
      ],
      "execution_count": null,
      "outputs": [
        {
          "output_type": "stream",
          "text": [
            "Gradiente\n",
            " [[-15.30301567]\n",
            " [598.25074417]]\n"
          ],
          "name": "stdout"
        }
      ]
    },
    {
      "cell_type": "markdown",
      "metadata": {
        "id": "sO2xWK_jbq_K"
      },
      "source": [
        "### 5.4 Ajustando os parâmetros da regressão linear"
      ]
    },
    {
      "cell_type": "markdown",
      "metadata": {
        "id": "4vs3DCr-byyM"
      },
      "source": [
        "A função abaixo computa valores ótimos para θ, porém sem a regularização, ou seja, com λ=0. \n",
        "\n",
        "A bilioteca scipy será utilizada a fim de obter-se o retorno com o comando opt.fminc."
      ]
    },
    {
      "cell_type": "code",
      "metadata": {
        "id": "xbbc_Ebv0vGz"
      },
      "source": [
        "def minimizar_funcao(theta, X, y, _lambda):\n",
        "    return opt.fmin_tnc(func = custo_reglin_regularizada, \n",
        "                        x0 = theta, \n",
        "                        fprime = gd_reglin_regularizada, \n",
        "                        args = (X, y, _lambda))"
      ],
      "execution_count": null,
      "outputs": []
    },
    {
      "cell_type": "markdown",
      "metadata": {
        "id": "ZMmqk8fpcaU3"
      },
      "source": [
        "Definindo  λ=0 para evitar a regularicação"
      ]
    },
    {
      "cell_type": "code",
      "metadata": {
        "colab": {
          "base_uri": "https://localhost:8080/"
        },
        "id": "DWPLa4OM1MEx",
        "outputId": "181a95ff-0416-4f21-82be-73a5447ab9d2"
      },
      "source": [
        "_lambda = 0\n",
        "result = minimizar_funcao(theta, X, y, _lambda)\n",
        "theta = result[0]\n",
        "J = custo_reglin_regularizada(theta, X, y, _lambda)\n",
        "\n",
        "print('Vetor de parâmetros = ', theta)\n",
        "print('Custo = ', J)"
      ],
      "execution_count": null,
      "outputs": [
        {
          "output_type": "stream",
          "text": [
            "Vetor de parâmetros =  [13.08790367  0.36777923]\n",
            "Custo =  22.373906495108923\n"
          ],
          "name": "stdout"
        }
      ]
    },
    {
      "cell_type": "markdown",
      "metadata": {
        "id": "2Qy_JsRycjDy"
      },
      "source": [
        "Plotagem e visualização do gráfico."
      ]
    },
    {
      "cell_type": "code",
      "metadata": {
        "colab": {
          "base_uri": "https://localhost:8080/",
          "height": 350
        },
        "id": "XdoPkMRg1WQc",
        "outputId": "a61193b2-4932-4959-8035-9b97e7e47093"
      },
      "source": [
        "h = X.dot(theta.T)\n",
        "plot_ex5data1(_X, y)\n",
        "plt.plot(_X, h)"
      ],
      "execution_count": null,
      "outputs": [
        {
          "output_type": "execute_result",
          "data": {
            "text/plain": [
              "[<matplotlib.lines.Line2D at 0x7f5d3b912b10>]"
            ]
          },
          "metadata": {
            "tags": []
          },
          "execution_count": 124
        },
        {
          "output_type": "display_data",
          "data": {
            "image/png": "[encoded data removed]",
            "text/plain": [
              "<Figure size 576x360 with 1 Axes>"
            ]
          },
          "metadata": {
            "tags": [],
            "needs_background": "light"
          }
        }
      ]
    },
    {
      "cell_type": "markdown",
      "metadata": {
        "id": "Cxglk0YfctPV"
      },
      "source": [
        "# 6 Viés-Variância"
      ]
    },
    {
      "cell_type": "markdown",
      "metadata": {
        "id": "DD_L6GS5c6vj"
      },
      "source": [
        "O viés - variância é um importante conceito para o Aprendizado de Máquina. Trata-se do relacionamento entre viés (*bias*) e variância (*variance*) de um modelo de aprendizado. \n",
        "\n",
        "É importante ressaltar que  modelos com *bias* elevado não são suficientemente complexos para os dados, podendo sofrer com subajuste (*underfitting*). Já os modelos com alta variância tendem a sofrer de sobreajuste (*overfitting*).\n",
        "\n",
        "Desta forma, ao realizar o treinamento de um modelo, a viés e a variância desempenham um papel fundamental para atingir a precisão necessária. Assim, o objetivo é chegar a um equilíbrio entre o viés e a variância a fim de  evitar o *overfitting* e *underfitting* do modelo. Este compromisso é denominado *Tradeoff*."
      ]
    },
    {
      "cell_type": "markdown",
      "metadata": {
        "id": "U50ACvIFduGm"
      },
      "source": [
        "### 6.1 Curvas de Aprendizado"
      ]
    },
    {
      "cell_type": "markdown",
      "metadata": {
        "id": "ktks1rLMd7d4"
      },
      "source": [
        "Optou-se por importar "
      ]
    },
    {
      "cell_type": "markdown",
      "metadata": {
        "id": "1o9ChoH5f8KG"
      },
      "source": [
        "Função para o plot ou visualização do gráfico. Ela incluí os rótulos que definem itens como as cores e legendas das curvas de treinamento (com base nos cálculos da função abaixo denominda *learningCurve* e nomeia os eixos X e Y. "
      ]
    },
    {
      "cell_type": "code",
      "metadata": {
        "id": "o7T1h44r10wG"
      },
      "source": [
        "def plot_learning_curve(x,y_treino, y_val, titulo=None):\n",
        "    plt.figure(figsize=(8,5))\n",
        "    plt.plot(x,y_treino,label='Treinamento')\n",
        "    plt.plot(x,y_val,label='Validação cruzada')\n",
        "    plt.title('Curva de aprendizado para regressão linear')\n",
        "    plt.xlabel('Número de exemplos treinados')\n",
        "    plt.ylabel('Erro')\n",
        "    x1,x2,y1,y2 = plt.axis()\n",
        "    plt.axis((x1,x2,0,y2))\n",
        "    plt.legend()\n",
        "    plt.title(titulo)\n",
        "    \n",
        "    plt.show()\n"
      ],
      "execution_count": null,
      "outputs": []
    },
    {
      "cell_type": "markdown",
      "metadata": {
        "id": "3F0ryKGx1vHX"
      },
      "source": [
        "A função abaixo realiza o cálculo dos erros com base em um conjunto de treino e um conjunto de validação. Assim, é possível chegar à comparação entre as duas situações e gerar a curva de aprendizado que pode ser visualmente verificada em um gráfico."
      ]
    },
    {
      "cell_type": "code",
      "metadata": {
        "id": "eV8hbHp71fs3"
      },
      "source": [
        "def learningCurve(theta, X, y, X_val, y_val, _lambda):\n",
        "    m = len(X)\n",
        "    erros_treino = np.zeros(m)\n",
        "    erros_val = np.zeros(m)\n",
        "    qtds_exemplos = []\n",
        "    \n",
        "    for i in range(1,m+1):\n",
        "        X_train = X[:i,:]\n",
        "        y_train = y[:i]\n",
        "        qtds_exemplos.append(len(X_train))\n",
        "        \n",
        "        result = minimizar_funcao(theta, X_train, y_train, _lambda)\n",
        "        theta = result[0]\n",
        "        \n",
        "        J_train = custo_reglin_regularizada(theta, X_train, y_train, _lambda=0)\n",
        "        J_val = custo_reglin_regularizada(theta, X_val, y_val, _lambda)\n",
        "        \n",
        "        erros_treino[i-1] = J_train\n",
        "        erros_val[i-1] = J_val\n",
        "    \n",
        "    return qtds_exemplos, erros_treino, erros_val"
      ],
      "execution_count": null,
      "outputs": []
    },
    {
      "cell_type": "markdown",
      "metadata": {
        "id": "SxC1psklgjxt"
      },
      "source": [
        "Inicializa o treino com θ = 1"
      ]
    },
    {
      "cell_type": "code",
      "metadata": {
        "colab": {
          "base_uri": "https://localhost:8080/",
          "height": 350
        },
        "id": "M_kHNl_K19q0",
        "outputId": "cce667f3-6dac-4532-bce8-cc3a9c7443dd"
      },
      "source": [
        "theta = np.array([[1,1]]) #inicialização\n",
        "numero_exemplos, erros_treino, erros_val = learningCurve(theta, X, y, Xval, yval, _lambda=0)\n",
        "\n",
        "titulo = 'Curva de aprendizado para regressão linear'\n",
        "plot_learning_curve(numero_exemplos, erros_treino, erros_val, titulo)"
      ],
      "execution_count": null,
      "outputs": [
        {
          "output_type": "display_data",
          "data": {
            "image/png": "[encoded data removed]",
            "text/plain": [
              "<Figure size 576x360 with 1 Axes>"
            ]
          },
          "metadata": {
            "tags": [],
            "needs_background": "light"
          }
        }
      ]
    },
    {
      "cell_type": "markdown",
      "metadata": {
        "id": "kWvroU3zg4wL"
      },
      "source": [
        "# 7. Regressão Polinomial"
      ]
    },
    {
      "cell_type": "markdown",
      "metadata": {
        "id": "pYL8aqAN2gw4"
      },
      "source": [
        "O mesmo conjunto de dados da sessão anterior será aplicado nesta etapa. Abaixo, a função que mapeia rapidamente o conjunto de dados original."
      ]
    },
    {
      "cell_type": "code",
      "metadata": {
        "colab": {
          "base_uri": "https://localhost:8080/"
        },
        "id": "hV8ypZv52OMw",
        "outputId": "9866712f-d48d-4a97-9f0b-2929cf328067"
      },
      "source": [
        "print('X original\\n',_X[:5,:])"
      ],
      "execution_count": null,
      "outputs": [
        {
          "output_type": "stream",
          "text": [
            "X original\n",
            " [[-15.93675813]\n",
            " [-29.15297922]\n",
            " [ 36.18954863]\n",
            " [ 37.49218733]\n",
            " [-48.05882945]]\n"
          ],
          "name": "stdout"
        }
      ]
    },
    {
      "cell_type": "markdown",
      "metadata": {
        "id": "KqMklCD-kKzQ"
      },
      "source": [
        "### 7.1 Regressão Polinomial - aprendizado"
      ]
    },
    {
      "cell_type": "markdown",
      "metadata": {
        "id": "9JN5eUwahUQE"
      },
      "source": [
        "Como o modelo linear é muito simples, resultando em *underfitting*, *i.e*, viés alto, novas caracteríscas com polinômio de grau 8 serão aplicadas a X."
      ]
    },
    {
      "cell_type": "code",
      "metadata": {
        "id": "D2fWmLBW2nzP"
      },
      "source": [
        "def poly_features(X, p):\n",
        "    \n",
        "    X_poly = np.zeros((X.shape[0], p))\n",
        "    for i in range(p):\n",
        "        X_poly[:, i] = X[:, 0] ** (i + 1)\n",
        "\n",
        "    return X_poly"
      ],
      "execution_count": null,
      "outputs": []
    },
    {
      "cell_type": "code",
      "metadata": {
        "id": "fxcwSSSJ2ykx"
      },
      "source": [
        "grau = 8\n",
        "X_poli = poly_features(_X, grau)"
      ],
      "execution_count": null,
      "outputs": []
    },
    {
      "cell_type": "markdown",
      "metadata": {
        "id": "F9FI7-il27me"
      },
      "source": [
        "Chamando novamente função de normalização a fim de igualar as escalas das características."
      ]
    },
    {
      "cell_type": "code",
      "metadata": {
        "id": "yc8Uscji2-vF"
      },
      "source": [
        "# normalização Z-Score\n",
        "def normalizar_caracteristica(X):\n",
        "    mean_X = np.mean(X, axis=0)\n",
        "    std_X = np.std(X, axis=0)\n",
        "    X_norm = (X - mean_X) / std_X\n",
        "    return X_norm, mean_X, std_X\n"
      ],
      "execution_count": null,
      "outputs": []
    },
    {
      "cell_type": "markdown",
      "metadata": {
        "id": "tnc5UGZWiUsT"
      },
      "source": [
        "A aprendizagem dos parâmetros segue-se a seguir com diferentes características."
      ]
    },
    {
      "cell_type": "code",
      "metadata": {
        "colab": {
          "base_uri": "https://localhost:8080/"
        },
        "id": "TqPoWCZm2Aq2",
        "outputId": "a5589c76-dafd-455d-a393-35bb2a641df9"
      },
      "source": [
        "X_norm, mean_X, std_X = normalizar_caracteristica(X_poli)\n",
        "print(X_norm[:5,:3]) #exibição somente das 3 primeiras colunas"
      ],
      "execution_count": null,
      "outputs": [
        {
          "output_type": "stream",
          "text": [
            "[[-3.78243704e-01 -7.88662325e-01  1.90328720e-01]\n",
            " [-8.38920100e-01  1.31420204e-03 -2.58961742e-01]\n",
            " [ 1.43871736e+00  6.10831582e-01  1.30534069e+00]\n",
            " [ 1.48412330e+00  7.38068463e-01  1.42031240e+00]\n",
            " [-1.49791929e+00  1.93643966e+00 -2.12774745e+00]]\n"
          ],
          "name": "stdout"
        }
      ]
    },
    {
      "cell_type": "code",
      "metadata": {
        "colab": {
          "base_uri": "https://localhost:8080/"
        },
        "id": "5llP1Pfs3Kf_",
        "outputId": "0cd1dc6a-4474-453d-83ff-c8858a580a0b"
      },
      "source": [
        "X_norm = np.insert(X_norm, 0, 1, axis=1)\n",
        "print(X_norm[:5,:4]) #exibição somente das 4 primeiras colunas"
      ],
      "execution_count": null,
      "outputs": [
        {
          "output_type": "stream",
          "text": [
            "[[ 1.00000000e+00 -3.78243704e-01 -7.88662325e-01  1.90328720e-01]\n",
            " [ 1.00000000e+00 -8.38920100e-01  1.31420204e-03 -2.58961742e-01]\n",
            " [ 1.00000000e+00  1.43871736e+00  6.10831582e-01  1.30534069e+00]\n",
            " [ 1.00000000e+00  1.48412330e+00  7.38068463e-01  1.42031240e+00]\n",
            " [ 1.00000000e+00 -1.49791929e+00  1.93643966e+00 -2.12774745e+00]]\n"
          ],
          "name": "stdout"
        }
      ]
    },
    {
      "cell_type": "code",
      "metadata": {
        "colab": {
          "base_uri": "https://localhost:8080/"
        },
        "id": "hLUgLEoV3NWK",
        "outputId": "494d87fd-bd23-4241-9aa8-f141451a12a4"
      },
      "source": [
        "_lambda = 0.003\n",
        "theta = np.ones((X_norm.shape[1])) #inicialização\n",
        "result = minimizar_funcao(theta, X_norm, y, _lambda)\n",
        "theta = result[0]\n",
        "\n",
        "print('Vetor de parâmetros\\n',theta)"
      ],
      "execution_count": null,
      "outputs": [
        {
          "output_type": "stream",
          "text": [
            "Vetor de parâmetros\n",
            " [ 11.21758156  11.23243789  13.34820938   8.58292448  -9.26145596\n",
            " -10.73863263   4.12880494   1.77973445  -3.39673752]\n"
          ],
          "name": "stdout"
        }
      ]
    },
    {
      "cell_type": "markdown",
      "metadata": {
        "id": "cKexmUdfisIB"
      },
      "source": [
        "Plotagem ou visualização de gráfico com as características de aprendizagem. Conforme pode ser analisado pelo grau da curva, o modelo agora apresenta alta variância."
      ]
    },
    {
      "cell_type": "code",
      "metadata": {
        "colab": {
          "base_uri": "https://localhost:8080/",
          "height": 350
        },
        "id": "qYxO2zVt3Q6d",
        "outputId": "7f230d70-31ae-45fa-d69e-63862d726f91"
      },
      "source": [
        "x = np.linspace(-65,60,50)\n",
        "x = x.reshape((len(x),1))\n",
        "x_poli = poly_features(x, grau)\n",
        "x_poli = (x_poli - mean_X) / std_X\n",
        "x_poli = np.insert(x_poli, 0, 1, axis=1)\n",
        "\n",
        "h = x_poli.dot(np.matrix(theta).T)\n",
        "\n",
        "plot_ex5data1(_X, y)\n",
        "plt.plot(x, h, 'b--')\n",
        "plt.title('Ajuste polinomial (lambda = 0)')\n",
        "plt.axis((-70,70,-60,50))\n",
        "plt.show()"
      ],
      "execution_count": null,
      "outputs": [
        {
          "output_type": "display_data",
          "data": {
            "image/png": "[encoded data removed]",
            "text/plain": [
              "<Figure size 576x360 with 1 Axes>"
            ]
          },
          "metadata": {
            "tags": [],
            "needs_background": "light"
          }
        }
      ]
    },
    {
      "cell_type": "markdown",
      "metadata": {
        "id": "K9O8C-GGjOEA"
      },
      "source": [
        "O gráfico a seguir demonstra o baixo nível de erros da curva de aprendizado, que se aproxima de 0 no eixo y, ou seja, pé praticamente nulo, conforme demonstrado na linha azul (Treinamento). \n",
        "\n",
        "Já a curva com Validação cruzada, em laranja, possui certa instabilidade, levando mais tempo para minimizar a quantidade de erros, que, ainda, assim, mantém-se relativamente alta."
      ]
    },
    {
      "cell_type": "code",
      "metadata": {
        "colab": {
          "base_uri": "https://localhost:8080/",
          "height": 350
        },
        "id": "PeE241NB3UEE",
        "outputId": "aa5084b0-5b44-4967-8cd9-17da318fdc30"
      },
      "source": [
        "X_poli_val = poly_features(_Xval, grau)\n",
        "X_norm_val, _, _ = normalizar_caracteristica(X_poli_val)\n",
        "X_norm_val = np.insert(X_norm_val, 0, 1, axis=1)\n",
        "\n",
        "theta = np.ones((X_norm_val.shape[1])) #inicialização\n",
        "numero_exemplos, erros_treino, erros_val = learningCurve(theta, X_norm, y, X_norm_val, yval, _lambda=0)\n",
        "\n",
        "titulo = 'Curva de aprendizado para regressão linear polinomial'\n",
        "\n",
        "plot_learning_curve(numero_exemplos, erros_treino, erros_val, titulo)"
      ],
      "execution_count": null,
      "outputs": [
        {
          "output_type": "display_data",
          "data": {
            "image/png": "[encoded data removed]",
            "text/plain": [
              "<Figure size 576x360 with 1 Axes>"
            ]
          },
          "metadata": {
            "tags": [],
            "needs_background": "light"
          }
        }
      ]
    },
    {
      "cell_type": "markdown",
      "metadata": {
        "id": "j-siymHPbds2"
      },
      "source": [
        ""
      ]
    },
    {
      "cell_type": "markdown",
      "metadata": {
        "id": "EZAzmTMwxsOI"
      },
      "source": [
        "Fonte: \n",
        "\n",
        "\n",
        "https://www.ime.unicamp.br/~nancy/Cursos/me104/regressao.pdf\n",
        "\n",
        "https://oestatistico.com.br/regressao-linear-simples/\n",
        "\n",
        "https://towardsdatascience.com/andrew-ngs-machine-learning-course-in-python-linear-regression-dd04fba8e137\n",
        "\n",
        "https://matheusfacure.github.io/2017/02/20/MQO-Gradiente-Descendente/\n",
        "\n",
        "https://github.com/MLRG-CEFET-RJ/ml-class/tree/master/ml-t1\n",
        "\n",
        "https://medium.com/turing-talks/turing-talks-20-regress%C3%A3o-de-ridge-e-lasso-a0fc467b5629"
      ]
    }
  ]
}